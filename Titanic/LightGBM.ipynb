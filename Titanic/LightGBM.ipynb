{
 "cells": [
  {
   "cell_type": "code",
   "execution_count": 1,
   "id": "5293ab3f",
   "metadata": {},
   "outputs": [],
   "source": [
    "import numpy as np\n",
    "import pandas as pd\n",
    "import matplotlib.pyplot as plt\n",
    "from sklearn.compose import ColumnTransformer\n",
    "from sklearn.impute import SimpleImputer\n",
    "from sklearn.preprocessing import StandardScaler, LabelEncoder, OneHotEncoder\n",
    "from sklearn.model_selection import GridSearchCV # ハイパーパラメータチューニングと交差検証を自動で行うためのライブラリ\n",
    "from sklearn.ensemble import RandomForestClassifier # ランダムフォレスト\n",
    "import lightgbm as gbm # LightGBM\n",
    "import xgboost as xgb # XGBoost\n",
    "from sklearn.model_selection import train_test_split\n",
    "pd.set_option('display.max_rows', 20)\n",
    "np.set_printoptions(threshold = np.inf)\n",
    "device = 'gpu'"
   ]
  },
  {
   "cell_type": "code",
   "execution_count": 2,
   "id": "ea121b61",
   "metadata": {},
   "outputs": [],
   "source": [
    "def extract_alpha_from_prefix(cabins):\n",
    "    if pd.isna(cabins):\n",
    "        return cabins\n",
    "\n",
    "    alpha_part = \"\"\n",
    "    for cabin in cabins.split(' '):\n",
    "        for char in cabin:\n",
    "            if char.isalpha():\n",
    "                alpha_part += char\n",
    "            else:\n",
    "                break\n",
    "\n",
    "    for i in range(len(alpha_part)-1):\n",
    "        if alpha_part[i] != alpha_part[i+1]:\n",
    "            return alpha_part\n",
    "\n",
    "    return alpha_part[0]"
   ]
  },
  {
   "cell_type": "code",
   "execution_count": 3,
   "id": "93b4cda2",
   "metadata": {},
   "outputs": [],
   "source": [
    "def eda(df_all):\n",
    "    # 3.1.1 Name -> Title\n",
    "    df_all['Title'] = df_all['Name'].str.split(',', expand = True)[1].str.split('.', expand = True)[0].str.strip()\n",
    "\n",
    "    # 出現回数が非常に少ないタイトルは過学習の原因になるので、似ている特性でカテゴライズする\n",
    "    # (Miss、Mrs、)Ms、Mlle、Lady、Mme、The Countess、Donaはすべて女性であるため、Miss/Mrs/Msに置き換える\n",
    "    df_all['Title'] = df_all['Title'].replace(['Ms', 'Mlle', 'Lady', 'Mme', 'the Countess', 'Dona'], 'Miss/Mrs/Ms')\n",
    "    df_all['Title'] = df_all['Title'].replace(['Dr', 'Col', 'Major', 'Jonkheer', 'Capt', 'Sir', 'Don', 'Rev'], 'Dr/Military/Noble/Clergy')\n",
    "\n",
    "    # 3.1.2 Ticket -> Ticket Frequency\n",
    "    df_all['Ticket_Frequency'] = df_all.groupby('Ticket')['Ticket'].transform('count')\n",
    "\n",
    "\n",
    "    # Cabin -> Segment\n",
    "    df_all['Segment'] = df_all['Cabin'].apply(extract_alpha_from_prefix)\n",
    "\n",
    "    # 特徴量同士を組み合わせる\n",
    "    df_all['Family'] = df_all['SibSp'] + df_all['Parch']\n",
    "    return df_all"
   ]
  },
  {
   "cell_type": "code",
   "execution_count": 4,
   "id": "3945c953",
   "metadata": {},
   "outputs": [],
   "source": [
    "def transform_data_with_eda(data, label_encoders = None, ct = None):\n",
    "    # 欠損値の処理(fillna関数のinplace = Trueは、PandasのDataFrameやSeriesのメソッドで使用される引数で、元のDataFrameまたはSeriesを直接変更することを指定)\n",
    "    data['Age'] = data['Age'].fillna(data['Age'].median())\n",
    "    data['Embarked'] = data['Embarked'].fillna(data['Embarked'].mode()[0])\n",
    "    data['Fare'] = data['Fare'].fillna(data['Fare'].median())\n",
    "\n",
    "    # 特徴量の部分抽出\n",
    "    data = eda(data)\n",
    "    remove_columns = ['Name', 'Ticket', 'Cabin', 'SibSp', 'Parch']\n",
    "    data = data.drop(columns = remove_columns)\n",
    "    data_columns = data.columns.tolist()\n",
    "    data_index = data.index\n",
    "\n",
    "    # カテゴリ変数を数値に変換\n",
    "    # LabelEncodeing(カテゴリ変数が特定の順番を持つ場合)\n",
    "    le_columns = ['Segment'] # 'Embarked'\n",
    "    if not label_encoders:\n",
    "        label_encoders = {}\n",
    "        for column in le_columns:\n",
    "            le = LabelEncoder()\n",
    "            data[column] = le.fit_transform(data[column])\n",
    "            label_encoders[column] = le\n",
    "    else:\n",
    "        for column in le_columns:\n",
    "            data[column] = label_encoders[column].transform(data[column])\n",
    "\n",
    "    # OneHotEncoding(カテゴリ変数が特定の順番を持たない場合)\n",
    "    ohe_columns = ['Sex', 'Title', 'Embarked']\n",
    "    if not ct:\n",
    "        ct = ColumnTransformer(\n",
    "            transformers = [(\n",
    "                'encoder',\n",
    "                OneHotEncoder(handle_unknown = 'ignore', sparse_output = False),\n",
    "                ohe_columns\n",
    "            )],\n",
    "            remainder = 'passthrough'\n",
    "        )\n",
    "        data = ct.fit_transform(data)\n",
    "    else:\n",
    "        data = ct.transform(data)\n",
    "\n",
    "    encoded_feature_names = ct.named_transformers_['encoder'].get_feature_names_out(ohe_columns) # OneHotEncoderによって生成された新しい列名を取得\n",
    "    passthrough_columns = [col for col in data_columns if col not in ohe_columns] # remainder='passthrough' でそのまま通過した列の名前を取得\n",
    "    all_feature_names = list(encoded_feature_names) + passthrough_columns\n",
    "    data = pd.DataFrame(data, columns = all_feature_names, index = data_index)\n",
    "\n",
    "    # 整数型に戻したいカラムのリストを定義\n",
    "    int_columns = ['PassengerId', 'Survived']\n",
    "    for col in int_columns:\n",
    "        if col in data.columns:\n",
    "            data[col] = data[col].astype(int)\n",
    "\n",
    "    return data, label_encoders, ct"
   ]
  },
  {
   "cell_type": "markdown",
   "id": "362d2c6f",
   "metadata": {},
   "source": [
    "## 学習用"
   ]
  },
  {
   "cell_type": "code",
   "execution_count": 5,
   "id": "4b60a00b",
   "metadata": {},
   "outputs": [],
   "source": [
    "# データロード\n",
    "train_data = pd.read_csv('./data/train.csv')"
   ]
  },
  {
   "cell_type": "code",
   "execution_count": 6,
   "id": "415f28be",
   "metadata": {},
   "outputs": [
    {
     "name": "stdout",
     "output_type": "stream",
     "text": [
      "Index(['Sex_female', 'Sex_male', 'Title_Dr/Military/Noble/Clergy',\n",
      "       'Title_Master', 'Title_Miss', 'Title_Miss/Mrs/Ms', 'Title_Mr',\n",
      "       'Title_Mrs', 'Embarked_C', 'Embarked_Q', 'Embarked_S', 'Pclass', 'Age',\n",
      "       'Fare', 'Ticket_Frequency', 'Segment', 'Family'],\n",
      "      dtype='object')\n"
     ]
    }
   ],
   "source": [
    "X = train_data.drop(columns = ['Survived', 'PassengerId'])\n",
    "y = train_data['Survived']\n",
    "X, le_encoders, ct = transform_data_with_eda(X)\n",
    "print(X.columns)\n",
    "remove_columns = ['Sex_male', 'Title_Mrs', 'Embarked_S']\n",
    "X = X.drop(columns = remove_columns)\n",
    "X_train, X_test, y_train, y_test = train_test_split(X, y, test_size = 0.2, random_state = 42)"
   ]
  },
  {
   "cell_type": "code",
   "execution_count": 7,
   "id": "ee1221b4",
   "metadata": {},
   "outputs": [
    {
     "data": {
      "text/plain": [
       "Index(['Sex_female', 'Title_Dr/Military/Noble/Clergy', 'Title_Master',\n",
       "       'Title_Miss', 'Title_Miss/Mrs/Ms', 'Title_Mr', 'Embarked_C',\n",
       "       'Embarked_Q', 'Pclass', 'Age', 'Fare', 'Ticket_Frequency', 'Segment',\n",
       "       'Family'],\n",
       "      dtype='object')"
      ]
     },
     "execution_count": 7,
     "metadata": {},
     "output_type": "execute_result"
    }
   ],
   "source": [
    "X.columns"
   ]
  },
  {
   "cell_type": "code",
   "execution_count": 8,
   "id": "7c67e15a",
   "metadata": {},
   "outputs": [],
   "source": [
    "# --- フィーチャースケーリング ---\n",
    "sc = StandardScaler()\n",
    "X_train = sc.fit_transform(X_train)\n",
    "X_test = sc.transform(X_test)"
   ]
  },
  {
   "cell_type": "code",
   "execution_count": null,
   "id": "0c58fd59",
   "metadata": {},
   "outputs": [
    {
     "name": "stderr",
     "output_type": "stream",
     "text": [
      "c:\\Users\\takun\\AppData\\Local\\pypoetry\\Cache\\virtualenvs\\kaggle-rJMSb0-b-py3.12\\Lib\\site-packages\\sklearn\\utils\\validation.py:2749: UserWarning: X does not have valid feature names, but LGBMClassifier was fitted with feature names\n",
      "  warnings.warn(\n",
      "c:\\Users\\takun\\AppData\\Local\\pypoetry\\Cache\\virtualenvs\\kaggle-rJMSb0-b-py3.12\\Lib\\site-packages\\sklearn\\utils\\validation.py:2749: UserWarning: X does not have valid feature names, but LGBMClassifier was fitted with feature names\n",
      "  warnings.warn(\n",
      "c:\\Users\\takun\\AppData\\Local\\pypoetry\\Cache\\virtualenvs\\kaggle-rJMSb0-b-py3.12\\Lib\\site-packages\\sklearn\\utils\\validation.py:2749: UserWarning: X does not have valid feature names, but LGBMClassifier was fitted with feature names\n",
      "  warnings.warn(\n",
      "c:\\Users\\takun\\AppData\\Local\\pypoetry\\Cache\\virtualenvs\\kaggle-rJMSb0-b-py3.12\\Lib\\site-packages\\sklearn\\utils\\validation.py:2749: UserWarning: X does not have valid feature names, but LGBMClassifier was fitted with feature names\n",
      "  warnings.warn(\n",
      "c:\\Users\\takun\\AppData\\Local\\pypoetry\\Cache\\virtualenvs\\kaggle-rJMSb0-b-py3.12\\Lib\\site-packages\\sklearn\\utils\\validation.py:2749: UserWarning: X does not have valid feature names, but LGBMClassifier was fitted with feature names\n",
      "  warnings.warn(\n",
      "c:\\Users\\takun\\AppData\\Local\\pypoetry\\Cache\\virtualenvs\\kaggle-rJMSb0-b-py3.12\\Lib\\site-packages\\sklearn\\utils\\validation.py:2749: UserWarning: X does not have valid feature names, but LGBMClassifier was fitted with feature names\n",
      "  warnings.warn(\n",
      "c:\\Users\\takun\\AppData\\Local\\pypoetry\\Cache\\virtualenvs\\kaggle-rJMSb0-b-py3.12\\Lib\\site-packages\\sklearn\\utils\\validation.py:2749: UserWarning: X does not have valid feature names, but LGBMClassifier was fitted with feature names\n",
      "  warnings.warn(\n",
      "c:\\Users\\takun\\AppData\\Local\\pypoetry\\Cache\\virtualenvs\\kaggle-rJMSb0-b-py3.12\\Lib\\site-packages\\sklearn\\utils\\validation.py:2749: UserWarning: X does not have valid feature names, but LGBMClassifier was fitted with feature names\n",
      "  warnings.warn(\n",
      "c:\\Users\\takun\\AppData\\Local\\pypoetry\\Cache\\virtualenvs\\kaggle-rJMSb0-b-py3.12\\Lib\\site-packages\\sklearn\\utils\\validation.py:2749: UserWarning: X does not have valid feature names, but LGBMClassifier was fitted with feature names\n",
      "  warnings.warn(\n",
      "c:\\Users\\takun\\AppData\\Local\\pypoetry\\Cache\\virtualenvs\\kaggle-rJMSb0-b-py3.12\\Lib\\site-packages\\sklearn\\utils\\validation.py:2749: UserWarning: X does not have valid feature names, but LGBMClassifier was fitted with feature names\n",
      "  warnings.warn(\n",
      "c:\\Users\\takun\\AppData\\Local\\pypoetry\\Cache\\virtualenvs\\kaggle-rJMSb0-b-py3.12\\Lib\\site-packages\\sklearn\\utils\\validation.py:2749: UserWarning: X does not have valid feature names, but LGBMClassifier was fitted with feature names\n",
      "  warnings.warn(\n",
      "c:\\Users\\takun\\AppData\\Local\\pypoetry\\Cache\\virtualenvs\\kaggle-rJMSb0-b-py3.12\\Lib\\site-packages\\sklearn\\utils\\validation.py:2749: UserWarning: X does not have valid feature names, but LGBMClassifier was fitted with feature names\n",
      "  warnings.warn(\n",
      "c:\\Users\\takun\\AppData\\Local\\pypoetry\\Cache\\virtualenvs\\kaggle-rJMSb0-b-py3.12\\Lib\\site-packages\\sklearn\\utils\\validation.py:2749: UserWarning: X does not have valid feature names, but LGBMClassifier was fitted with feature names\n",
      "  warnings.warn(\n",
      "c:\\Users\\takun\\AppData\\Local\\pypoetry\\Cache\\virtualenvs\\kaggle-rJMSb0-b-py3.12\\Lib\\site-packages\\sklearn\\utils\\validation.py:2749: UserWarning: X does not have valid feature names, but LGBMClassifier was fitted with feature names\n",
      "  warnings.warn(\n",
      "c:\\Users\\takun\\AppData\\Local\\pypoetry\\Cache\\virtualenvs\\kaggle-rJMSb0-b-py3.12\\Lib\\site-packages\\sklearn\\utils\\validation.py:2749: UserWarning: X does not have valid feature names, but LGBMClassifier was fitted with feature names\n",
      "  warnings.warn(\n",
      "c:\\Users\\takun\\AppData\\Local\\pypoetry\\Cache\\virtualenvs\\kaggle-rJMSb0-b-py3.12\\Lib\\site-packages\\sklearn\\utils\\validation.py:2749: UserWarning: X does not have valid feature names, but LGBMClassifier was fitted with feature names\n",
      "  warnings.warn(\n",
      "c:\\Users\\takun\\AppData\\Local\\pypoetry\\Cache\\virtualenvs\\kaggle-rJMSb0-b-py3.12\\Lib\\site-packages\\sklearn\\utils\\validation.py:2749: UserWarning: X does not have valid feature names, but LGBMClassifier was fitted with feature names\n",
      "  warnings.warn(\n",
      "c:\\Users\\takun\\AppData\\Local\\pypoetry\\Cache\\virtualenvs\\kaggle-rJMSb0-b-py3.12\\Lib\\site-packages\\sklearn\\utils\\validation.py:2749: UserWarning: X does not have valid feature names, but LGBMClassifier was fitted with feature names\n",
      "  warnings.warn(\n",
      "c:\\Users\\takun\\AppData\\Local\\pypoetry\\Cache\\virtualenvs\\kaggle-rJMSb0-b-py3.12\\Lib\\site-packages\\sklearn\\utils\\validation.py:2749: UserWarning: X does not have valid feature names, but LGBMClassifier was fitted with feature names\n",
      "  warnings.warn(\n",
      "c:\\Users\\takun\\AppData\\Local\\pypoetry\\Cache\\virtualenvs\\kaggle-rJMSb0-b-py3.12\\Lib\\site-packages\\sklearn\\utils\\validation.py:2749: UserWarning: X does not have valid feature names, but LGBMClassifier was fitted with feature names\n",
      "  warnings.warn(\n",
      "c:\\Users\\takun\\AppData\\Local\\pypoetry\\Cache\\virtualenvs\\kaggle-rJMSb0-b-py3.12\\Lib\\site-packages\\sklearn\\utils\\validation.py:2749: UserWarning: X does not have valid feature names, but LGBMClassifier was fitted with feature names\n",
      "  warnings.warn(\n",
      "c:\\Users\\takun\\AppData\\Local\\pypoetry\\Cache\\virtualenvs\\kaggle-rJMSb0-b-py3.12\\Lib\\site-packages\\sklearn\\utils\\validation.py:2749: UserWarning: X does not have valid feature names, but LGBMClassifier was fitted with feature names\n",
      "  warnings.warn(\n",
      "c:\\Users\\takun\\AppData\\Local\\pypoetry\\Cache\\virtualenvs\\kaggle-rJMSb0-b-py3.12\\Lib\\site-packages\\sklearn\\utils\\validation.py:2749: UserWarning: X does not have valid feature names, but LGBMClassifier was fitted with feature names\n",
      "  warnings.warn(\n",
      "c:\\Users\\takun\\AppData\\Local\\pypoetry\\Cache\\virtualenvs\\kaggle-rJMSb0-b-py3.12\\Lib\\site-packages\\sklearn\\utils\\validation.py:2749: UserWarning: X does not have valid feature names, but LGBMClassifier was fitted with feature names\n",
      "  warnings.warn(\n",
      "c:\\Users\\takun\\AppData\\Local\\pypoetry\\Cache\\virtualenvs\\kaggle-rJMSb0-b-py3.12\\Lib\\site-packages\\sklearn\\utils\\validation.py:2749: UserWarning: X does not have valid feature names, but LGBMClassifier was fitted with feature names\n",
      "  warnings.warn(\n",
      "c:\\Users\\takun\\AppData\\Local\\pypoetry\\Cache\\virtualenvs\\kaggle-rJMSb0-b-py3.12\\Lib\\site-packages\\sklearn\\utils\\validation.py:2749: UserWarning: X does not have valid feature names, but LGBMClassifier was fitted with feature names\n",
      "  warnings.warn(\n",
      "c:\\Users\\takun\\AppData\\Local\\pypoetry\\Cache\\virtualenvs\\kaggle-rJMSb0-b-py3.12\\Lib\\site-packages\\sklearn\\utils\\validation.py:2749: UserWarning: X does not have valid feature names, but LGBMClassifier was fitted with feature names\n",
      "  warnings.warn(\n",
      "c:\\Users\\takun\\AppData\\Local\\pypoetry\\Cache\\virtualenvs\\kaggle-rJMSb0-b-py3.12\\Lib\\site-packages\\sklearn\\utils\\validation.py:2749: UserWarning: X does not have valid feature names, but LGBMClassifier was fitted with feature names\n",
      "  warnings.warn(\n",
      "c:\\Users\\takun\\AppData\\Local\\pypoetry\\Cache\\virtualenvs\\kaggle-rJMSb0-b-py3.12\\Lib\\site-packages\\sklearn\\utils\\validation.py:2749: UserWarning: X does not have valid feature names, but LGBMClassifier was fitted with feature names\n",
      "  warnings.warn(\n",
      "c:\\Users\\takun\\AppData\\Local\\pypoetry\\Cache\\virtualenvs\\kaggle-rJMSb0-b-py3.12\\Lib\\site-packages\\sklearn\\utils\\validation.py:2749: UserWarning: X does not have valid feature names, but LGBMClassifier was fitted with feature names\n",
      "  warnings.warn(\n",
      "c:\\Users\\takun\\AppData\\Local\\pypoetry\\Cache\\virtualenvs\\kaggle-rJMSb0-b-py3.12\\Lib\\site-packages\\sklearn\\utils\\validation.py:2749: UserWarning: X does not have valid feature names, but LGBMClassifier was fitted with feature names\n",
      "  warnings.warn(\n",
      "c:\\Users\\takun\\AppData\\Local\\pypoetry\\Cache\\virtualenvs\\kaggle-rJMSb0-b-py3.12\\Lib\\site-packages\\sklearn\\utils\\validation.py:2749: UserWarning: X does not have valid feature names, but LGBMClassifier was fitted with feature names\n",
      "  warnings.warn(\n",
      "c:\\Users\\takun\\AppData\\Local\\pypoetry\\Cache\\virtualenvs\\kaggle-rJMSb0-b-py3.12\\Lib\\site-packages\\sklearn\\utils\\validation.py:2749: UserWarning: X does not have valid feature names, but LGBMClassifier was fitted with feature names\n",
      "  warnings.warn(\n",
      "c:\\Users\\takun\\AppData\\Local\\pypoetry\\Cache\\virtualenvs\\kaggle-rJMSb0-b-py3.12\\Lib\\site-packages\\sklearn\\utils\\validation.py:2749: UserWarning: X does not have valid feature names, but LGBMClassifier was fitted with feature names\n",
      "  warnings.warn(\n",
      "c:\\Users\\takun\\AppData\\Local\\pypoetry\\Cache\\virtualenvs\\kaggle-rJMSb0-b-py3.12\\Lib\\site-packages\\sklearn\\utils\\validation.py:2749: UserWarning: X does not have valid feature names, but LGBMClassifier was fitted with feature names\n",
      "  warnings.warn(\n",
      "c:\\Users\\takun\\AppData\\Local\\pypoetry\\Cache\\virtualenvs\\kaggle-rJMSb0-b-py3.12\\Lib\\site-packages\\sklearn\\utils\\validation.py:2749: UserWarning: X does not have valid feature names, but LGBMClassifier was fitted with feature names\n",
      "  warnings.warn(\n",
      "c:\\Users\\takun\\AppData\\Local\\pypoetry\\Cache\\virtualenvs\\kaggle-rJMSb0-b-py3.12\\Lib\\site-packages\\sklearn\\utils\\validation.py:2749: UserWarning: X does not have valid feature names, but LGBMClassifier was fitted with feature names\n",
      "  warnings.warn(\n",
      "c:\\Users\\takun\\AppData\\Local\\pypoetry\\Cache\\virtualenvs\\kaggle-rJMSb0-b-py3.12\\Lib\\site-packages\\sklearn\\utils\\validation.py:2749: UserWarning: X does not have valid feature names, but LGBMClassifier was fitted with feature names\n",
      "  warnings.warn(\n",
      "c:\\Users\\takun\\AppData\\Local\\pypoetry\\Cache\\virtualenvs\\kaggle-rJMSb0-b-py3.12\\Lib\\site-packages\\sklearn\\utils\\validation.py:2749: UserWarning: X does not have valid feature names, but LGBMClassifier was fitted with feature names\n",
      "  warnings.warn(\n",
      "c:\\Users\\takun\\AppData\\Local\\pypoetry\\Cache\\virtualenvs\\kaggle-rJMSb0-b-py3.12\\Lib\\site-packages\\sklearn\\utils\\validation.py:2749: UserWarning: X does not have valid feature names, but LGBMClassifier was fitted with feature names\n",
      "  warnings.warn(\n",
      "c:\\Users\\takun\\AppData\\Local\\pypoetry\\Cache\\virtualenvs\\kaggle-rJMSb0-b-py3.12\\Lib\\site-packages\\sklearn\\utils\\validation.py:2749: UserWarning: X does not have valid feature names, but LGBMClassifier was fitted with feature names\n",
      "  warnings.warn(\n",
      "c:\\Users\\takun\\AppData\\Local\\pypoetry\\Cache\\virtualenvs\\kaggle-rJMSb0-b-py3.12\\Lib\\site-packages\\sklearn\\utils\\validation.py:2749: UserWarning: X does not have valid feature names, but LGBMClassifier was fitted with feature names\n",
      "  warnings.warn(\n",
      "c:\\Users\\takun\\AppData\\Local\\pypoetry\\Cache\\virtualenvs\\kaggle-rJMSb0-b-py3.12\\Lib\\site-packages\\sklearn\\utils\\validation.py:2749: UserWarning: X does not have valid feature names, but LGBMClassifier was fitted with feature names\n",
      "  warnings.warn(\n",
      "c:\\Users\\takun\\AppData\\Local\\pypoetry\\Cache\\virtualenvs\\kaggle-rJMSb0-b-py3.12\\Lib\\site-packages\\sklearn\\utils\\validation.py:2749: UserWarning: X does not have valid feature names, but LGBMClassifier was fitted with feature names\n",
      "  warnings.warn(\n",
      "c:\\Users\\takun\\AppData\\Local\\pypoetry\\Cache\\virtualenvs\\kaggle-rJMSb0-b-py3.12\\Lib\\site-packages\\sklearn\\utils\\validation.py:2749: UserWarning: X does not have valid feature names, but LGBMClassifier was fitted with feature names\n",
      "  warnings.warn(\n"
     ]
    },
    {
     "name": "stdout",
     "output_type": "stream",
     "text": [
      "Best Parameters: {'colsample_bytree': 1.0, 'learning_rate': 0.01, 'max_depth': 3, 'n_estimators': 500, 'num_leaves': 10, 'reg_alpha': 0, 'reg_lambda': 0}\n",
      "Best Score: 0.8314488328572835\n"
     ]
    },
    {
     "data": {
      "text/plain": [
       "\"\\nランダムフォレスト\\nBest Parameters: {'max_depth': 7, 'max_features': 'sqrt', 'min_samples_leaf': 2, 'min_samples_split': 10, 'n_estimators': 200}\\nBest Score: 0.8385367762128325\\n\\nBest Parameters: {'colsample_bytree': 1.0, 'learning_rate': 0.01, 'max_depth': 3, 'n_estimators': 500, 'num_leaves': 10, 'subsample': 0.6}\\nBest Score: 0.8314488328572835\\n\""
      ]
     },
     "execution_count": 9,
     "metadata": {},
     "output_type": "execute_result"
    }
   ],
   "source": [
    "# --- モデルの訓練 ---\n",
    "# 試したいパラメータの候補を辞書で定義\n",
    "param_grid_gbm = {\n",
    "    'n_estimators': [500],\n",
    "    'max_depth': [3],\n",
    "    'learning_rate': [0.01],\n",
    "    'num_leaves': [10],\n",
    "    'reg_alpha': [0],\n",
    "    'reg_lambda': [0],\n",
    "    'colsample_bytree': [1.0],\n",
    "}\n",
    "\n",
    "# モデルとパラメータ候補、交差検証の方法を指定してGridSearchCVを準備\n",
    "# cv=5 は5-Fold Cross-Validationを意味する\n",
    "grid_search = GridSearchCV(\n",
    "    estimator = gbm.LGBMClassifier(random_state = 0, verbose = -1, device = device),\n",
    "    # estimator = xgb.XGBClassifier(random_state = 0, use_label_encoder = False, eval_metric = 'logloss'),\n",
    "    param_grid = param_grid_gbm,\n",
    "    cv = 5,\n",
    "    scoring = 'accuracy'\n",
    ")\n",
    "\n",
    "# 訓練データで探索を実行\n",
    "grid_search.fit(X_train, y_train)\n",
    "\n",
    "# 最も性能が良かったパラメータとスコアを確認\n",
    "best_params_R = grid_search.best_params_\n",
    "print(\"Best Parameters:\", grid_search.best_params_)\n",
    "print(\"Best Score:\", grid_search.best_score_)\n",
    "\n",
    "\"\"\"\n",
    "ランダムフォレスト\n",
    "Best Parameters: {'max_depth': 7, 'max_features': 'sqrt', 'min_samples_leaf': 2, 'min_samples_split': 10, 'n_estimators': 200}\n",
    "Best Score: 0.8385367762128325\n",
    "\n",
    "Best Parameters: {'colsample_bytree': 1.0, 'learning_rate': 0.01, 'max_depth': 3, 'n_estimators': 500, 'num_leaves': 10, 'subsample': 0.6}\n",
    "Best Score: 0.8314488328572835\n",
    "\"\"\""
   ]
  },
  {
   "cell_type": "markdown",
   "id": "b6ace7f8",
   "metadata": {},
   "source": [
    "## 提出用"
   ]
  },
  {
   "cell_type": "code",
   "execution_count": 10,
   "id": "b28b1b42",
   "metadata": {},
   "outputs": [
    {
     "name": "stderr",
     "output_type": "stream",
     "text": [
      "c:\\Users\\takun\\AppData\\Local\\pypoetry\\Cache\\virtualenvs\\kaggle-rJMSb0-b-py3.12\\Lib\\site-packages\\sklearn\\utils\\validation.py:2749: UserWarning: X does not have valid feature names, but LGBMClassifier was fitted with feature names\n",
      "  warnings.warn(\n"
     ]
    }
   ],
   "source": [
    "# データロード\n",
    "train_data = pd.read_csv('./data/train.csv')\n",
    "test_data = pd.read_csv('./data/test.csv')\n",
    "\n",
    "# データの前処理\n",
    "X_train = train_data.drop(columns = ['Survived', 'PassengerId'])\n",
    "y_train = train_data['Survived']\n",
    "X_test = test_data.drop(columns = ['PassengerId'])\n",
    "X_train, le_encoders, ct = transform_data_with_eda(X_train)\n",
    "X_test, _, _ = transform_data_with_eda(X_test, le_encoders, ct)\n",
    "remove_columns = ['Sex_male', 'Title_Mrs', 'Embarked_S']\n",
    "X_train = X_train.drop(columns = remove_columns)\n",
    "X_test = X_test.drop(columns = remove_columns)\n",
    "\n",
    "# --- フィーチャースケーリング ---\n",
    "sc = StandardScaler()\n",
    "X_train = sc.fit_transform(X_train)\n",
    "X_test = sc.transform(X_test)\n",
    "\n",
    "# --- 最適なパラメータでのモデル訓練 ---\n",
    "classifier = gbm.LGBMClassifier(random_state = 0, **best_params_R, device = device)\n",
    "classifier.fit(X_train, y_train)\n",
    "\n",
    "y_pred = classifier.predict(X_test)\n",
    "X_test_passengerid = test_data['PassengerId'].values\n",
    "\n",
    "survived_passenger = pd.DataFrame({\n",
    "    'PassengerId': X_test_passengerid,\n",
    "    'Survived': y_pred\n",
    "})\n",
    "survived_passenger.to_csv('./data/submittion_randomforest2.csv', index = False, encoding = 'utf-8')"
   ]
  },
  {
   "cell_type": "code",
   "execution_count": null,
   "id": "2c3448cd",
   "metadata": {},
   "outputs": [],
   "source": []
  }
 ],
 "metadata": {
  "kernelspec": {
   "display_name": "kaggle-rJMSb0-b-py3.12",
   "language": "python",
   "name": "python3"
  },
  "language_info": {
   "codemirror_mode": {
    "name": "ipython",
    "version": 3
   },
   "file_extension": ".py",
   "mimetype": "text/x-python",
   "name": "python",
   "nbconvert_exporter": "python",
   "pygments_lexer": "ipython3",
   "version": "3.12.4"
  }
 },
 "nbformat": 4,
 "nbformat_minor": 5
}
