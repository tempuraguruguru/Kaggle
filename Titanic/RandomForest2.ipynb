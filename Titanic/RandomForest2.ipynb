{
 "cells": [
  {
   "cell_type": "code",
   "execution_count": 1,
   "id": "82743566",
   "metadata": {},
   "outputs": [],
   "source": [
    "import numpy as np\n",
    "import pandas as pd\n",
    "import matplotlib.pyplot as plt\n",
    "from sklearn.compose import ColumnTransformer\n",
    "from sklearn.impute import SimpleImputer\n",
    "from sklearn.preprocessing import StandardScaler, LabelEncoder, OneHotEncoder\n",
    "from sklearn.model_selection import GridSearchCV # ハイパーパラメータチューニングと交差検証を自動で行うためのライブラリ\n",
    "from sklearn.ensemble import RandomForestClassifier\n",
    "from sklearn.model_selection import train_test_split\n",
    "pd.set_option('display.max_rows', 20)\n",
    "np.set_printoptions(threshold = np.inf)"
   ]
  },
  {
   "cell_type": "code",
   "execution_count": 2,
   "id": "672e7a96",
   "metadata": {},
   "outputs": [],
   "source": [
    "def extract_alpha_from_prefix(cabins):\n",
    "    if pd.isna(cabins):\n",
    "        return cabins\n",
    "\n",
    "    alpha_part = \"\"\n",
    "    for cabin in cabins.split(' '):\n",
    "        for char in cabin:\n",
    "            if char.isalpha():\n",
    "                alpha_part += char\n",
    "            else:\n",
    "                break\n",
    "\n",
    "    for i in range(len(alpha_part)-1):\n",
    "        if alpha_part[i] != alpha_part[i+1]:\n",
    "            return alpha_part\n",
    "\n",
    "    return alpha_part[0]"
   ]
  },
  {
   "cell_type": "code",
   "execution_count": 3,
   "id": "85721bea",
   "metadata": {},
   "outputs": [],
   "source": [
    "def eda(df_all):\n",
    "    # 3.1.1 Name -> Title\n",
    "    df_all['Title'] = df_all['Name'].str.split(',', expand = True)[1].str.split('.', expand = True)[0].str.strip()\n",
    "\n",
    "    # 出現回数が非常に少ないタイトルは過学習の原因になるので、似ている特性でカテゴライズする\n",
    "    # (Miss、Mrs、)Ms、Mlle、Lady、Mme、The Countess、Donaはすべて女性であるため、Miss/Mrs/Msに置き換える\n",
    "    df_all['Title'] = df_all['Title'].replace(['Ms', 'Mlle', 'Lady', 'Mme', 'the Countess', 'Dona'], 'Miss/Mrs/Ms')\n",
    "    df_all['Title'] = df_all['Title'].replace(['Dr', 'Col', 'Major', 'Jonkheer', 'Capt', 'Sir', 'Don', 'Rev'], 'Dr/Military/Noble/Clergy')\n",
    "\n",
    "    # 3.1.2 Ticket -> Ticket Frequency\n",
    "    df_all['Ticket_Frequency'] = df_all.groupby('Ticket')['Ticket'].transform('count')\n",
    "\n",
    "\n",
    "    # Cabin -> Segment\n",
    "    df_all['Segment'] = df_all['Cabin'].apply(extract_alpha_from_prefix)\n",
    "\n",
    "    # 特徴量同士を組み合わせる\n",
    "    df_all['Family'] = df_all['SibSp'] + df_all['Parch']\n",
    "    return df_all"
   ]
  },
  {
   "cell_type": "code",
   "execution_count": 4,
   "id": "58def92f",
   "metadata": {},
   "outputs": [],
   "source": [
    "def transform_data_with_eda(data, label_encoders = None, ct = None):\n",
    "    # 欠損値の処理(fillna関数のinplace = Trueは、PandasのDataFrameやSeriesのメソッドで使用される引数で、元のDataFrameまたはSeriesを直接変更することを指定)\n",
    "    data['Age'] = data['Age'].fillna(data['Age'].median())\n",
    "    data['Embarked'] = data['Embarked'].fillna(data['Embarked'].mode()[0])\n",
    "    data['Fare'] = data['Fare'].fillna(data['Fare'].median())\n",
    "\n",
    "    # 特徴量の部分抽出\n",
    "    data = eda(data)\n",
    "    remove_columns = ['Name', 'Ticket', 'Cabin', 'SibSp', 'Parch']\n",
    "    data = data.drop(columns = remove_columns)\n",
    "    data_columns = data.columns.tolist()\n",
    "    data_index = data.index\n",
    "\n",
    "    # カテゴリ変数を数値に変換\n",
    "    # LabelEncodeing(カテゴリ変数が特定の順番を持つ場合)\n",
    "    le_columns = ['Segment'] # 'Embarked'\n",
    "    if not label_encoders:\n",
    "        label_encoders = {}\n",
    "        for column in le_columns:\n",
    "            le = LabelEncoder()\n",
    "            data[column] = le.fit_transform(data[column])\n",
    "            label_encoders[column] = le\n",
    "    else:\n",
    "        for column in le_columns:\n",
    "            data[column] = label_encoders[column].transform(data[column])\n",
    "\n",
    "    # OneHotEncoding(カテゴリ変数が特定の順番を持たない場合)\n",
    "    ohe_columns = ['Sex', 'Title', 'Embarked']\n",
    "    if not ct:\n",
    "        ct = ColumnTransformer(\n",
    "            transformers = [(\n",
    "                'encoder',\n",
    "                OneHotEncoder(handle_unknown = 'ignore', sparse_output = False),\n",
    "                ohe_columns\n",
    "            )],\n",
    "            remainder = 'passthrough'\n",
    "        )\n",
    "        data = ct.fit_transform(data)\n",
    "    else:\n",
    "        data = ct.transform(data)\n",
    "\n",
    "    encoded_feature_names = ct.named_transformers_['encoder'].get_feature_names_out(ohe_columns) # OneHotEncoderによって生成された新しい列名を取得\n",
    "    passthrough_columns = [col for col in data_columns if col not in ohe_columns] # remainder='passthrough' でそのまま通過した列の名前を取得\n",
    "    all_feature_names = list(encoded_feature_names) + passthrough_columns\n",
    "    data = pd.DataFrame(data, columns = all_feature_names, index = data_index)\n",
    "\n",
    "    # 整数型に戻したいカラムのリストを定義\n",
    "    int_columns = ['PassengerId', 'Survived']\n",
    "    for col in int_columns:\n",
    "        if col in data.columns:\n",
    "            data[col] = data[col].astype(int)\n",
    "\n",
    "    return data, label_encoders, ct"
   ]
  },
  {
   "cell_type": "markdown",
   "id": "138c5aa0",
   "metadata": {},
   "source": [
    "## 学習用"
   ]
  },
  {
   "cell_type": "code",
   "execution_count": 5,
   "id": "61b668e0",
   "metadata": {},
   "outputs": [],
   "source": [
    "# データロード\n",
    "train_data = pd.read_csv('./data/train.csv')"
   ]
  },
  {
   "cell_type": "code",
   "execution_count": 6,
   "id": "47dd862b",
   "metadata": {},
   "outputs": [
    {
     "name": "stdout",
     "output_type": "stream",
     "text": [
      "Index(['Sex_female', 'Sex_male', 'Title_Dr/Military/Noble/Clergy',\n",
      "       'Title_Master', 'Title_Miss', 'Title_Miss/Mrs/Ms', 'Title_Mr',\n",
      "       'Title_Mrs', 'Embarked_C', 'Embarked_Q', 'Embarked_S', 'Pclass', 'Age',\n",
      "       'Fare', 'Ticket_Frequency', 'Segment', 'Family'],\n",
      "      dtype='object')\n"
     ]
    }
   ],
   "source": [
    "X = train_data.drop(columns = ['Survived', 'PassengerId'])\n",
    "y = train_data['Survived']\n",
    "X, le_encoders, ct = transform_data_with_eda(X)\n",
    "print(X.columns)\n",
    "remove_columns = ['Sex_male', 'Title_Mrs', 'Embarked_S']\n",
    "X = X.drop(columns = remove_columns)\n",
    "X_train, X_test, y_train, y_test = train_test_split(X, y, test_size = 0.2, random_state = 42)"
   ]
  },
  {
   "cell_type": "code",
   "execution_count": null,
   "id": "28ab0af0",
   "metadata": {},
   "outputs": [
    {
     "name": "stdout",
     "output_type": "stream",
     "text": [
      "<class 'pandas.core.frame.DataFrame'>\n",
      "RangeIndex: 891 entries, 0 to 890\n",
      "Data columns (total 14 columns):\n",
      " #   Column                          Non-Null Count  Dtype  \n",
      "---  ------                          --------------  -----  \n",
      " 0   Sex_female                      891 non-null    float64\n",
      " 1   Title_Dr/Military/Noble/Clergy  891 non-null    float64\n",
      " 2   Title_Master                    891 non-null    float64\n",
      " 3   Title_Miss                      891 non-null    float64\n",
      " 4   Title_Miss/Mrs/Ms               891 non-null    float64\n",
      " 5   Title_Mr                        891 non-null    float64\n",
      " 6   Embarked_C                      891 non-null    float64\n",
      " 7   Embarked_Q                      891 non-null    float64\n",
      " 8   Pclass                          891 non-null    float64\n",
      " 9   Age                             891 non-null    float64\n",
      " 10  Fare                            891 non-null    float64\n",
      " 11  Ticket_Frequency                891 non-null    float64\n",
      " 12  Segment                         891 non-null    float64\n",
      " 13  Family                          891 non-null    float64\n",
      "dtypes: float64(14)\n",
      "memory usage: 97.6 KB\n"
     ]
    }
   ],
   "source": [
    "X.columns"
   ]
  },
  {
   "cell_type": "code",
   "execution_count": 8,
   "id": "15cb9fa0",
   "metadata": {},
   "outputs": [],
   "source": [
    "# --- フィーチャースケーリング ---\n",
    "sc = StandardScaler()\n",
    "X_train = sc.fit_transform(X_train)\n",
    "X_test = sc.transform(X_test)"
   ]
  },
  {
   "cell_type": "code",
   "execution_count": 9,
   "id": "5a3619f4",
   "metadata": {},
   "outputs": [
    {
     "name": "stdout",
     "output_type": "stream",
     "text": [
      "Best Parameters: {'max_depth': None, 'max_features': 1, 'min_samples_leaf': 3, 'min_samples_split': 12, 'n_estimators': 150}\n",
      "Best Score: 0.8427034428794992\n"
     ]
    }
   ],
   "source": [
    "# --- モデルの訓練 ---\n",
    "# 試したいパラメータの候補を辞書で定義\n",
    "param_grid = {\n",
    "    'n_estimators': [150, 200, 250,],\n",
    "    'max_depth': [6, 7, 8, None],\n",
    "    'min_samples_leaf': [1, 2, 3],\n",
    "    'min_samples_split': [6, 8, 10, 12],\n",
    "    'max_features': ['sqrt', 'log2', 0.5, 1]\n",
    "}\n",
    "\n",
    "# モデルとパラメータ候補、交差検証の方法を指定してGridSearchCVを準備\n",
    "# cv=5 は5-Fold Cross-Validationを意味する\n",
    "grid_search = GridSearchCV(\n",
    "    estimator = RandomForestClassifier(random_state = 0),\n",
    "    param_grid = param_grid,\n",
    "    cv = 10,\n",
    "    scoring = 'accuracy'\n",
    ")\n",
    "\n",
    "# 訓練データで探索を実行\n",
    "grid_search.fit(X_train, y_train)\n",
    "\n",
    "# 最も性能が良かったパラメータとスコアを確認\n",
    "best_params_R = grid_search.best_params_\n",
    "print(\"Best Parameters:\", grid_search.best_params_)\n",
    "print(\"Best Score:\", grid_search.best_score_)\n",
    "\n",
    "# Best Parameters: {'max_depth': 7, 'max_features': 'sqrt', 'min_samples_leaf': 2, 'min_samples_split': 10, 'n_estimators': 200}\n",
    "# Best Score: 0.8385367762128325"
   ]
  },
  {
   "cell_type": "markdown",
   "id": "803fc89b",
   "metadata": {},
   "source": [
    "## 提出用"
   ]
  },
  {
   "cell_type": "code",
   "execution_count": 10,
   "id": "e6cd14b0",
   "metadata": {},
   "outputs": [],
   "source": [
    "# データロード\n",
    "train_data = pd.read_csv('./data/train.csv')\n",
    "test_data = pd.read_csv('./data/test.csv')\n",
    "\n",
    "# データの前処理\n",
    "X_train = train_data.drop(columns = ['Survived', 'PassengerId'])\n",
    "y_train = train_data['Survived']\n",
    "X_test = test_data.drop(columns = ['PassengerId'])\n",
    "X_train, le_encoders, ct = transform_data_with_eda(X_train)\n",
    "X_test, _, _ = transform_data_with_eda(X_test, le_encoders, ct)\n",
    "remove_columns = ['Sex_male', 'Title_Mrs', 'Embarked_S']\n",
    "X_train = X_train.drop(columns = remove_columns)\n",
    "X_test = X_test.drop(columns = remove_columns)\n",
    "\n",
    "# --- フィーチャースケーリング ---\n",
    "sc = StandardScaler()\n",
    "X_train = sc.fit_transform(X_train)\n",
    "X_test = sc.transform(X_test)\n",
    "\n",
    "# --- 最適なパラメータでのモデル訓練 ---\n",
    "classifier = RandomForestClassifier(random_state = 0, **best_params_R)\n",
    "classifier.fit(X_train, y_train)\n",
    "\n",
    "y_pred = classifier.predict(X_test)\n",
    "X_test_passengerid = test_data['PassengerId'].values\n",
    "\n",
    "survived_passenger = pd.DataFrame({\n",
    "    'PassengerId': X_test_passengerid,\n",
    "    'Survived': y_pred\n",
    "})\n",
    "survived_passenger.to_csv('./data/submittion_randomforest2.csv', index = False, encoding = 'utf-8')"
   ]
  },
  {
   "cell_type": "code",
   "execution_count": null,
   "id": "b9871c1d",
   "metadata": {},
   "outputs": [],
   "source": []
  }
 ],
 "metadata": {
  "kernelspec": {
   "display_name": "kaggle-DIVfiPaQ-py3.12",
   "language": "python",
   "name": "python3"
  },
  "language_info": {
   "codemirror_mode": {
    "name": "ipython",
    "version": 3
   },
   "file_extension": ".py",
   "mimetype": "text/x-python",
   "name": "python",
   "nbconvert_exporter": "python",
   "pygments_lexer": "ipython3",
   "version": "3.12.2"
  }
 },
 "nbformat": 4,
 "nbformat_minor": 5
}
