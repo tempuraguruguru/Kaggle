{
 "cells": [
  {
   "cell_type": "code",
   "execution_count": 1,
   "id": "80acddf0",
   "metadata": {},
   "outputs": [],
   "source": [
    "import numpy as np\n",
    "import pandas as pd\n",
    "import matplotlib.pyplot as plt\n",
    "from sklearn.compose import ColumnTransformer\n",
    "from sklearn.impute import SimpleImputer\n",
    "from sklearn.preprocessing import StandardScaler, LabelEncoder, OneHotEncoder\n",
    "import re"
   ]
  },
  {
   "cell_type": "code",
   "execution_count": 2,
   "id": "8b1cd539",
   "metadata": {},
   "outputs": [],
   "source": [
    "pd.set_option('display.max_rows', 20)\n",
    "np.set_printoptions(threshold = np.inf)"
   ]
  },
  {
   "cell_type": "code",
   "execution_count": 3,
   "id": "fd31246b",
   "metadata": {},
   "outputs": [],
   "source": [
    "# データロード\n",
    "train_data = pd.read_csv('./data/train.csv')\n",
    "test_data = pd.read_csv('./data/test.csv')"
   ]
  },
  {
   "cell_type": "code",
   "execution_count": 4,
   "id": "4bce3841",
   "metadata": {},
   "outputs": [
    {
     "data": {
      "text/html": [
       "<div>\n",
       "<style scoped>\n",
       "    .dataframe tbody tr th:only-of-type {\n",
       "        vertical-align: middle;\n",
       "    }\n",
       "\n",
       "    .dataframe tbody tr th {\n",
       "        vertical-align: top;\n",
       "    }\n",
       "\n",
       "    .dataframe thead th {\n",
       "        text-align: right;\n",
       "    }\n",
       "</style>\n",
       "<table border=\"1\" class=\"dataframe\">\n",
       "  <thead>\n",
       "    <tr style=\"text-align: right;\">\n",
       "      <th></th>\n",
       "      <th>PassengerId</th>\n",
       "      <th>Survived</th>\n",
       "      <th>Pclass</th>\n",
       "      <th>Name</th>\n",
       "      <th>Sex</th>\n",
       "      <th>Age</th>\n",
       "      <th>SibSp</th>\n",
       "      <th>Parch</th>\n",
       "      <th>Ticket</th>\n",
       "      <th>Fare</th>\n",
       "      <th>Cabin</th>\n",
       "      <th>Embarked</th>\n",
       "    </tr>\n",
       "  </thead>\n",
       "  <tbody>\n",
       "    <tr>\n",
       "      <th>0</th>\n",
       "      <td>1</td>\n",
       "      <td>0</td>\n",
       "      <td>3</td>\n",
       "      <td>Braund, Mr. Owen Harris</td>\n",
       "      <td>male</td>\n",
       "      <td>22.0</td>\n",
       "      <td>1</td>\n",
       "      <td>0</td>\n",
       "      <td>A/5 21171</td>\n",
       "      <td>7.2500</td>\n",
       "      <td>NaN</td>\n",
       "      <td>S</td>\n",
       "    </tr>\n",
       "    <tr>\n",
       "      <th>1</th>\n",
       "      <td>2</td>\n",
       "      <td>1</td>\n",
       "      <td>1</td>\n",
       "      <td>Cumings, Mrs. John Bradley (Florence Briggs Th...</td>\n",
       "      <td>female</td>\n",
       "      <td>38.0</td>\n",
       "      <td>1</td>\n",
       "      <td>0</td>\n",
       "      <td>PC 17599</td>\n",
       "      <td>71.2833</td>\n",
       "      <td>C85</td>\n",
       "      <td>C</td>\n",
       "    </tr>\n",
       "    <tr>\n",
       "      <th>2</th>\n",
       "      <td>3</td>\n",
       "      <td>1</td>\n",
       "      <td>3</td>\n",
       "      <td>Heikkinen, Miss. Laina</td>\n",
       "      <td>female</td>\n",
       "      <td>26.0</td>\n",
       "      <td>0</td>\n",
       "      <td>0</td>\n",
       "      <td>STON/O2. 3101282</td>\n",
       "      <td>7.9250</td>\n",
       "      <td>NaN</td>\n",
       "      <td>S</td>\n",
       "    </tr>\n",
       "    <tr>\n",
       "      <th>3</th>\n",
       "      <td>4</td>\n",
       "      <td>1</td>\n",
       "      <td>1</td>\n",
       "      <td>Futrelle, Mrs. Jacques Heath (Lily May Peel)</td>\n",
       "      <td>female</td>\n",
       "      <td>35.0</td>\n",
       "      <td>1</td>\n",
       "      <td>0</td>\n",
       "      <td>113803</td>\n",
       "      <td>53.1000</td>\n",
       "      <td>C123</td>\n",
       "      <td>S</td>\n",
       "    </tr>\n",
       "    <tr>\n",
       "      <th>4</th>\n",
       "      <td>5</td>\n",
       "      <td>0</td>\n",
       "      <td>3</td>\n",
       "      <td>Allen, Mr. William Henry</td>\n",
       "      <td>male</td>\n",
       "      <td>35.0</td>\n",
       "      <td>0</td>\n",
       "      <td>0</td>\n",
       "      <td>373450</td>\n",
       "      <td>8.0500</td>\n",
       "      <td>NaN</td>\n",
       "      <td>S</td>\n",
       "    </tr>\n",
       "    <tr>\n",
       "      <th>...</th>\n",
       "      <td>...</td>\n",
       "      <td>...</td>\n",
       "      <td>...</td>\n",
       "      <td>...</td>\n",
       "      <td>...</td>\n",
       "      <td>...</td>\n",
       "      <td>...</td>\n",
       "      <td>...</td>\n",
       "      <td>...</td>\n",
       "      <td>...</td>\n",
       "      <td>...</td>\n",
       "      <td>...</td>\n",
       "    </tr>\n",
       "    <tr>\n",
       "      <th>886</th>\n",
       "      <td>887</td>\n",
       "      <td>0</td>\n",
       "      <td>2</td>\n",
       "      <td>Montvila, Rev. Juozas</td>\n",
       "      <td>male</td>\n",
       "      <td>27.0</td>\n",
       "      <td>0</td>\n",
       "      <td>0</td>\n",
       "      <td>211536</td>\n",
       "      <td>13.0000</td>\n",
       "      <td>NaN</td>\n",
       "      <td>S</td>\n",
       "    </tr>\n",
       "    <tr>\n",
       "      <th>887</th>\n",
       "      <td>888</td>\n",
       "      <td>1</td>\n",
       "      <td>1</td>\n",
       "      <td>Graham, Miss. Margaret Edith</td>\n",
       "      <td>female</td>\n",
       "      <td>19.0</td>\n",
       "      <td>0</td>\n",
       "      <td>0</td>\n",
       "      <td>112053</td>\n",
       "      <td>30.0000</td>\n",
       "      <td>B42</td>\n",
       "      <td>S</td>\n",
       "    </tr>\n",
       "    <tr>\n",
       "      <th>888</th>\n",
       "      <td>889</td>\n",
       "      <td>0</td>\n",
       "      <td>3</td>\n",
       "      <td>Johnston, Miss. Catherine Helen \"Carrie\"</td>\n",
       "      <td>female</td>\n",
       "      <td>NaN</td>\n",
       "      <td>1</td>\n",
       "      <td>2</td>\n",
       "      <td>W./C. 6607</td>\n",
       "      <td>23.4500</td>\n",
       "      <td>NaN</td>\n",
       "      <td>S</td>\n",
       "    </tr>\n",
       "    <tr>\n",
       "      <th>889</th>\n",
       "      <td>890</td>\n",
       "      <td>1</td>\n",
       "      <td>1</td>\n",
       "      <td>Behr, Mr. Karl Howell</td>\n",
       "      <td>male</td>\n",
       "      <td>26.0</td>\n",
       "      <td>0</td>\n",
       "      <td>0</td>\n",
       "      <td>111369</td>\n",
       "      <td>30.0000</td>\n",
       "      <td>C148</td>\n",
       "      <td>C</td>\n",
       "    </tr>\n",
       "    <tr>\n",
       "      <th>890</th>\n",
       "      <td>891</td>\n",
       "      <td>0</td>\n",
       "      <td>3</td>\n",
       "      <td>Dooley, Mr. Patrick</td>\n",
       "      <td>male</td>\n",
       "      <td>32.0</td>\n",
       "      <td>0</td>\n",
       "      <td>0</td>\n",
       "      <td>370376</td>\n",
       "      <td>7.7500</td>\n",
       "      <td>NaN</td>\n",
       "      <td>Q</td>\n",
       "    </tr>\n",
       "  </tbody>\n",
       "</table>\n",
       "<p>891 rows × 12 columns</p>\n",
       "</div>"
      ],
      "text/plain": [
       "     PassengerId  Survived  Pclass  \\\n",
       "0              1         0       3   \n",
       "1              2         1       1   \n",
       "2              3         1       3   \n",
       "3              4         1       1   \n",
       "4              5         0       3   \n",
       "..           ...       ...     ...   \n",
       "886          887         0       2   \n",
       "887          888         1       1   \n",
       "888          889         0       3   \n",
       "889          890         1       1   \n",
       "890          891         0       3   \n",
       "\n",
       "                                                  Name     Sex   Age  SibSp  \\\n",
       "0                              Braund, Mr. Owen Harris    male  22.0      1   \n",
       "1    Cumings, Mrs. John Bradley (Florence Briggs Th...  female  38.0      1   \n",
       "2                               Heikkinen, Miss. Laina  female  26.0      0   \n",
       "3         Futrelle, Mrs. Jacques Heath (Lily May Peel)  female  35.0      1   \n",
       "4                             Allen, Mr. William Henry    male  35.0      0   \n",
       "..                                                 ...     ...   ...    ...   \n",
       "886                              Montvila, Rev. Juozas    male  27.0      0   \n",
       "887                       Graham, Miss. Margaret Edith  female  19.0      0   \n",
       "888           Johnston, Miss. Catherine Helen \"Carrie\"  female   NaN      1   \n",
       "889                              Behr, Mr. Karl Howell    male  26.0      0   \n",
       "890                                Dooley, Mr. Patrick    male  32.0      0   \n",
       "\n",
       "     Parch            Ticket     Fare Cabin Embarked  \n",
       "0        0         A/5 21171   7.2500   NaN        S  \n",
       "1        0          PC 17599  71.2833   C85        C  \n",
       "2        0  STON/O2. 3101282   7.9250   NaN        S  \n",
       "3        0            113803  53.1000  C123        S  \n",
       "4        0            373450   8.0500   NaN        S  \n",
       "..     ...               ...      ...   ...      ...  \n",
       "886      0            211536  13.0000   NaN        S  \n",
       "887      0            112053  30.0000   B42        S  \n",
       "888      2        W./C. 6607  23.4500   NaN        S  \n",
       "889      0            111369  30.0000  C148        C  \n",
       "890      0            370376   7.7500   NaN        Q  \n",
       "\n",
       "[891 rows x 12 columns]"
      ]
     },
     "execution_count": 4,
     "metadata": {},
     "output_type": "execute_result"
    }
   ],
   "source": [
    "train_data"
   ]
  },
  {
   "cell_type": "code",
   "execution_count": 5,
   "id": "a3c527f0",
   "metadata": {},
   "outputs": [
    {
     "name": "stdout",
     "output_type": "stream",
     "text": [
      "データ数: 891\n",
      "カラム名    nullの数\n",
      "PassengerId      0\n",
      "Survived         0\n",
      "Pclass           0\n",
      "Name             0\n",
      "Sex              0\n",
      "Age            177\n",
      "SibSp            0\n",
      "Parch            0\n",
      "Ticket           0\n",
      "Fare             0\n",
      "Cabin          687\n",
      "Embarked         2\n",
      "dtype: int64\n"
     ]
    }
   ],
   "source": [
    "# データの総数\n",
    "print(f\"データ数: {len(train_data)}\")\n",
    "\n",
    "# 各カラムのnullの数をカウント\n",
    "null_counts = train_data.isnull().sum()\n",
    "print(\"カラム名    nullの数\")\n",
    "print(null_counts)"
   ]
  },
  {
   "cell_type": "code",
   "execution_count": 6,
   "id": "9dbb6fbf",
   "metadata": {},
   "outputs": [
    {
     "name": "stdout",
     "output_type": "stream",
     "text": [
      "カラム名    変数型\n",
      "Pclass        int64\n",
      "Name         object\n",
      "Sex          object\n",
      "Age         float64\n",
      "SibSp         int64\n",
      "Parch         int64\n",
      "Ticket       object\n",
      "Fare        float64\n",
      "Cabin        object\n",
      "Embarked     object\n",
      "dtype: object \n",
      "\n",
      "float型のカラム: ['Age', 'Fare']\n",
      "float型以外のカラム: ['Pclass', 'Name', 'Sex', 'SibSp', 'Parch', 'Ticket', 'Cabin', 'Embarked']\n"
     ]
    }
   ],
   "source": [
    "# インデックスと目的変数\n",
    "filter_column = ['PassengerId', 'Survived']\n",
    "\n",
    "# 各カラムのデータ型を取得\n",
    "column_dtypes = train_data.drop(columns = filter_column).dtypes\n",
    "print(\"カラム名    変数型\")\n",
    "print(column_dtypes, '\\n')\n",
    "\n",
    "# float型のカラムのみ抽出\n",
    "float_columns = column_dtypes[column_dtypes == 'float'].index.tolist()\n",
    "print(f'float型のカラム: {float_columns}')\n",
    "\n",
    "# float型以外のカラムのみを抽出\n",
    "categorical_columns = column_dtypes[column_dtypes != 'float'].index.tolist()\n",
    "print(f'float型以外のカラム: {categorical_columns}')"
   ]
  },
  {
   "cell_type": "code",
   "execution_count": 7,
   "id": "77b0d39a",
   "metadata": {},
   "outputs": [
    {
     "data": {
      "text/html": [
       "<div>\n",
       "<style scoped>\n",
       "    .dataframe tbody tr th:only-of-type {\n",
       "        vertical-align: middle;\n",
       "    }\n",
       "\n",
       "    .dataframe tbody tr th {\n",
       "        vertical-align: top;\n",
       "    }\n",
       "\n",
       "    .dataframe thead th {\n",
       "        text-align: right;\n",
       "    }\n",
       "</style>\n",
       "<table border=\"1\" class=\"dataframe\">\n",
       "  <thead>\n",
       "    <tr style=\"text-align: right;\">\n",
       "      <th></th>\n",
       "      <th>Age</th>\n",
       "      <th>Fare</th>\n",
       "      <th>Survived</th>\n",
       "    </tr>\n",
       "  </thead>\n",
       "  <tbody>\n",
       "    <tr>\n",
       "      <th>Age</th>\n",
       "      <td>1.000000</td>\n",
       "      <td>0.096067</td>\n",
       "      <td>-0.077221</td>\n",
       "    </tr>\n",
       "    <tr>\n",
       "      <th>Fare</th>\n",
       "      <td>0.096067</td>\n",
       "      <td>1.000000</td>\n",
       "      <td>0.257307</td>\n",
       "    </tr>\n",
       "    <tr>\n",
       "      <th>Survived</th>\n",
       "      <td>-0.077221</td>\n",
       "      <td>0.257307</td>\n",
       "      <td>1.000000</td>\n",
       "    </tr>\n",
       "  </tbody>\n",
       "</table>\n",
       "</div>"
      ],
      "text/plain": [
       "               Age      Fare  Survived\n",
       "Age       1.000000  0.096067 -0.077221\n",
       "Fare      0.096067  1.000000  0.257307\n",
       "Survived -0.077221  0.257307  1.000000"
      ]
     },
     "execution_count": 7,
     "metadata": {},
     "output_type": "execute_result"
    }
   ],
   "source": [
    "# 目的変数とのピアソン相関(高い相関 → データ間に関係がある)\n",
    "float_columns += ['Survived']\n",
    "train_data[float_columns].corr()"
   ]
  },
  {
   "cell_type": "code",
   "execution_count": 8,
   "id": "048588f0",
   "metadata": {},
   "outputs": [
    {
     "name": "stdout",
     "output_type": "stream",
     "text": [
      "変数名,  p値\n"
     ]
    },
    {
     "data": {
      "text/plain": [
       "[('Sex', np.float64(1.197357062775565e-58)),\n",
       " ('Pclass', np.float64(4.549251711298793e-23)),\n",
       " ('SibSp', np.float64(1.5585810465902147e-06)),\n",
       " ('Embarked', np.float64(1.769922284120912e-06)),\n",
       " ('Parch', np.float64(9.703526421039997e-05)),\n",
       " ('Ticket', np.float64(0.011527296011637753)),\n",
       " ('Cabin', np.float64(0.18357354976388165)),\n",
       " ('Name', np.float64(0.484248151973633))]"
      ]
     },
     "execution_count": 8,
     "metadata": {},
     "output_type": "execute_result"
    }
   ],
   "source": [
    "\"\"\"\n",
    "カイ二乗検定は、観測された度数と期待される度数のずれを評価する統計手法です。\n",
    "データが独立かどうか調べる → p値が小さい → 独立ではない(データ間に関係がある？)\n",
    "\"\"\"\n",
    "from scipy.stats import chi2_contingency\n",
    "\n",
    "# クロステーブルの作成\n",
    "chi2_results = []\n",
    "for col in categorical_columns:\n",
    "    cross_table = pd.crosstab(train_data[col], train_data['Survived'])\n",
    "    chi2, p, _, _ = chi2_contingency(cross_table) # カイ二乗検定の実行(カイ二乗統計量, p値, 自由度, 期待度数)\n",
    "    chi2_results.append((col, p))\n",
    "\n",
    "# p値が小さい順に並べる\n",
    "print(f\"変数名,  p値\")\n",
    "sorted_chi2_results = sorted(chi2_results, key = lambda x:x[1])\n",
    "sorted_chi2_results"
   ]
  },
  {
   "cell_type": "code",
   "execution_count": 9,
   "id": "5141dd94",
   "metadata": {},
   "outputs": [
    {
     "name": "stderr",
     "output_type": "stream",
     "text": [
      "/var/folders/st/jqtns5g15kqgs2ds4qh0z7240000gn/T/ipykernel_81038/2597443981.py:6: FutureWarning: \n",
      "\n",
      "Passing `palette` without assigning `hue` is deprecated and will be removed in v0.14.0. Assign the `x` variable to `hue` and set `legend=False` for the same effect.\n",
      "\n",
      "  g = sns.barplot(x = \"Sex\", y = \"Survived\", data = train_data, palette = palette_custom, errorbar = None)\n"
     ]
    },
    {
     "data": {
      "image/png": "[encoded data removed]",
      "text/plain": [
       "<Figure size 800x600 with 1 Axes>"
      ]
     },
     "metadata": {},
     "output_type": "display_data"
    }
   ],
   "source": [
    "# 'Survived'と'Sex'の関係を可視化\n",
    "import seaborn as sns\n",
    "\n",
    "palette_custom = {'male': 'blue', 'female': 'red'}\n",
    "plt.figure(figsize = (8, 6))\n",
    "g = sns.barplot(x = \"Sex\", y = \"Survived\", data = train_data, palette = palette_custom, errorbar = None)\n",
    "g.set_title(\"Relation between Survived and Gender\")\n",
    "g.set_ylabel(\"Survival Rate\")\n",
    "plt.show()"
   ]
  },
  {
   "cell_type": "code",
   "execution_count": 10,
   "id": "967afd44",
   "metadata": {},
   "outputs": [
    {
     "name": "stderr",
     "output_type": "stream",
     "text": [
      "/var/folders/st/jqtns5g15kqgs2ds4qh0z7240000gn/T/ipykernel_81038/774782749.py:6: FutureWarning: \n",
      "\n",
      "Passing `palette` without assigning `hue` is deprecated and will be removed in v0.14.0. Assign the `x` variable to `hue` and set `legend=False` for the same effect.\n",
      "\n",
      "  g = sns.barplot(x = \"Pclass\", y = \"Survived\", data = train_data, palette = \"Set1\", errorbar = None)\n"
     ]
    },
    {
     "data": {
      "image/png": "[encoded data removed]",
      "text/plain": [
       "<Figure size 800x600 with 1 Axes>"
      ]
     },
     "metadata": {},
     "output_type": "display_data"
    }
   ],
   "source": [
    "# 'Survived'と'Pclass'の関係を可視化\n",
    "import seaborn as sns\n",
    "\n",
    "# palette_custom = {'male': 'blue', 'female': 'red'}\n",
    "plt.figure(figsize = (8, 6))\n",
    "g = sns.barplot(x = \"Pclass\", y = \"Survived\", data = train_data, palette = \"Set1\", errorbar = None)\n",
    "g.set_title(\"Relation between Survived and Pclass\")\n",
    "g.set_ylabel(\"Survival Rate\")\n",
    "plt.show()"
   ]
  },
  {
   "cell_type": "code",
   "execution_count": 11,
   "id": "37a1bf9e",
   "metadata": {},
   "outputs": [
    {
     "name": "stdout",
     "output_type": "stream",
     "text": [
      "accuracy train:  0.8567415730337079\n",
      "accuracy validation:  0.8156424581005587\n"
     ]
    }
   ],
   "source": [
    "from sklearn.model_selection import train_test_split\n",
    "from sklearn.tree import DecisionTreeClassifier\n",
    "from sklearn.ensemble import RandomForestClassifier\n",
    "\n",
    "# 決定木の学習\n",
    "data = train_data\n",
    "\n",
    "# 欠損値の処理\n",
    "data['Age'] = data['Age'].fillna(data['Age'].median())\n",
    "data['Embarked'] = data['Embarked'].fillna(data['Embarked'].mode()[0])\n",
    "data['Fare'] = data['Fare'].fillna(data['Fare'].median())\n",
    "\n",
    "# カテゴリ変数を数値に変換\n",
    "label_encoders = {}\n",
    "for column in ['Sex', 'Embarked']:\n",
    "    le = LabelEncoder()\n",
    "    data[column] = le.fit_transform(data[column])\n",
    "    label_encoders[column] = le\n",
    "\n",
    "# 今回はName, Ticket, Cabinを削除する\n",
    "#（カテゴリカル変数として種類が多いのでOne-Hotエンコーディングすると生成される特徴量の数が多すぎるので）\n",
    "data = data.drop(columns = ['Name', 'Ticket', 'Cabin'])\n",
    "\n",
    "# データの分割\n",
    "X = data.drop(columns = ['Survived', 'PassengerId'])\n",
    "y = data['Survived']\n",
    "X_train, X_test, y_train, y_test = train_test_split(X, y, test_size = 0.2, random_state = 42)\n",
    "\n",
    "# 決定木モデルのトレーニング\n",
    "clf = RandomForestClassifier(random_state = 42, max_depth = 5)\n",
    "clf.fit(X_train, y_train)\n",
    "\n",
    "# トレーニングスコア\n",
    "train_score = clf.score(X_train, y_train)\n",
    "# バリデーションスコア\n",
    "test_score = clf.score(X_test, y_test)\n",
    "\n",
    "print('accuracy train: ', train_score)\n",
    "print('accuracy validation: ',test_score)"
   ]
  },
  {
   "cell_type": "code",
   "execution_count": 12,
   "id": "11e7e8a4",
   "metadata": {},
   "outputs": [
    {
     "data": {
      "image/png": "[encoded data removed]",
      "text/plain": [
       "<Figure size 1200x700 with 1 Axes>"
      ]
     },
     "metadata": {},
     "output_type": "display_data"
    },
    {
     "data": {
      "text/html": [
       "<div>\n",
       "<style scoped>\n",
       "    .dataframe tbody tr th:only-of-type {\n",
       "        vertical-align: middle;\n",
       "    }\n",
       "\n",
       "    .dataframe tbody tr th {\n",
       "        vertical-align: top;\n",
       "    }\n",
       "\n",
       "    .dataframe thead th {\n",
       "        text-align: right;\n",
       "    }\n",
       "</style>\n",
       "<table border=\"1\" class=\"dataframe\">\n",
       "  <thead>\n",
       "    <tr style=\"text-align: right;\">\n",
       "      <th></th>\n",
       "      <th>Feature</th>\n",
       "      <th>Importance</th>\n",
       "    </tr>\n",
       "  </thead>\n",
       "  <tbody>\n",
       "    <tr>\n",
       "      <th>0</th>\n",
       "      <td>Sex</td>\n",
       "      <td>0.479707</td>\n",
       "    </tr>\n",
       "    <tr>\n",
       "      <th>1</th>\n",
       "      <td>Fare</td>\n",
       "      <td>0.147958</td>\n",
       "    </tr>\n",
       "    <tr>\n",
       "      <th>2</th>\n",
       "      <td>Pclass</td>\n",
       "      <td>0.139716</td>\n",
       "    </tr>\n",
       "    <tr>\n",
       "      <th>3</th>\n",
       "      <td>Age</td>\n",
       "      <td>0.108085</td>\n",
       "    </tr>\n",
       "    <tr>\n",
       "      <th>4</th>\n",
       "      <td>SibSp</td>\n",
       "      <td>0.051284</td>\n",
       "    </tr>\n",
       "    <tr>\n",
       "      <th>5</th>\n",
       "      <td>Parch</td>\n",
       "      <td>0.039289</td>\n",
       "    </tr>\n",
       "    <tr>\n",
       "      <th>6</th>\n",
       "      <td>Embarked</td>\n",
       "      <td>0.033960</td>\n",
       "    </tr>\n",
       "  </tbody>\n",
       "</table>\n",
       "</div>"
      ],
      "text/plain": [
       "    Feature  Importance\n",
       "0       Sex    0.479707\n",
       "1      Fare    0.147958\n",
       "2    Pclass    0.139716\n",
       "3       Age    0.108085\n",
       "4     SibSp    0.051284\n",
       "5     Parch    0.039289\n",
       "6  Embarked    0.033960"
      ]
     },
     "execution_count": 12,
     "metadata": {},
     "output_type": "execute_result"
    }
   ],
   "source": [
    "# 特徴量の重要度を取得\n",
    "feature_importances = clf.feature_importances_\n",
    "\n",
    "# 特徴量とその重要度をDataFrameに格納\n",
    "features_df = pd.DataFrame({\n",
    "    'Feature': X.columns,\n",
    "    'Importance': feature_importances\n",
    "})\n",
    "\n",
    "# 降順にソート\n",
    "features_df = features_df.sort_values(by = 'Importance', ascending = False)\n",
    "\n",
    "# プロット\n",
    "plt.figure(figsize = (12, 7))\n",
    "plt.barh(features_df['Feature'], features_df['Importance'], align = 'center')\n",
    "plt.xlabel('Importance')\n",
    "plt.ylabel('Feature')\n",
    "plt.title('Feature Importances')\n",
    "plt.gca().invert_yaxis()  # 上位の特徴量を上に表示\n",
    "plt.show()\n",
    "\n",
    "features_df.reset_index(drop = True)"
   ]
  },
  {
   "cell_type": "code",
   "execution_count": 13,
   "id": "fa849419",
   "metadata": {},
   "outputs": [
    {
     "name": "stdout",
     "output_type": "stream",
     "text": [
      "accuracy train:  0.7921348314606742\n",
      "accuracy validation:  0.7821229050279329\n"
     ]
    }
   ],
   "source": [
    "from sklearn.linear_model import Lasso\n",
    "\n",
    "# Lasso Regressionの学習\n",
    "data = train_data\n",
    "\n",
    "# 欠損値の処理\n",
    "data['Age'] = data['Age'].fillna(data['Age'].median())\n",
    "data['Embarked'] = data['Embarked'].fillna(data['Embarked'].mode()[0])\n",
    "data['Fare'] = data['Fare'].fillna(data['Fare'].median())\n",
    "\n",
    "# カテゴリ変数を数値に変換\n",
    "label_encoders = {}\n",
    "for column in ['Sex', 'Embarked', 'Name']:\n",
    "    le = LabelEncoder()\n",
    "    data[column] = le.fit_transform(data[column])\n",
    "    label_encoders[column] = le\n",
    "\n",
    "# 今回はName, Ticket, Cabinを削除する\n",
    "#（カテゴリカル変数として種類が多いのでOne-Hotエンコーディングすると生成される特徴量の数が多すぎるので）\n",
    "data = data.drop(columns = ['Name', 'Cabin', 'Ticket'])\n",
    "\n",
    "# データの分割\n",
    "X = data.drop(columns = ['Survived', 'PassengerId'])\n",
    "y = data['Survived']\n",
    "X_train, X_test, y_train, y_test = train_test_split(X, y, test_size = 0.2, random_state = 42)\n",
    "\n",
    "# データのスケーリング（標準化）\n",
    "scaler = StandardScaler()\n",
    "X_train_scaled = scaler.fit_transform(X_train)\n",
    "X_test_scaled = scaler.transform(X_test)\n",
    "\n",
    "# Lasso回帰のトレーニング\n",
    "lasso = Lasso(alpha = 0.01, random_state = 42)  # 小さなalphaを使用して、多くの特徴量が選択されるようにします。\n",
    "lasso.fit(X_train_scaled, y_train)\n",
    "\n",
    "from sklearn.metrics import accuracy_score\n",
    "\n",
    "# Lassoによる予測\n",
    "train_preds = lasso.predict(X_train_scaled)\n",
    "test_preds = lasso.predict(X_test_scaled)\n",
    "\n",
    "# 予測値を0または1に変換\n",
    "train_preds = [1 if pred >= 0.5 else 0 for pred in train_preds]\n",
    "test_preds = [1 if pred >= 0.5 else 0 for pred in test_preds]\n",
    "\n",
    "# 正解率の計算\n",
    "lasso_train_accuracy = accuracy_score(y_train, train_preds)\n",
    "lasso_test_accuracy = accuracy_score(y_test, test_preds)\n",
    "\n",
    "print('accuracy train: ', lasso_train_accuracy)\n",
    "print('accuracy validation: ',lasso_test_accuracy)"
   ]
  },
  {
   "cell_type": "code",
   "execution_count": 14,
   "id": "4e5bf6f1",
   "metadata": {},
   "outputs": [
    {
     "data": {
      "image/png": "[encoded data removed]",
      "text/plain": [
       "<Figure size 1200x700 with 1 Axes>"
      ]
     },
     "metadata": {},
     "output_type": "display_data"
    },
    {
     "data": {
      "text/html": [
       "<div>\n",
       "<style scoped>\n",
       "    .dataframe tbody tr th:only-of-type {\n",
       "        vertical-align: middle;\n",
       "    }\n",
       "\n",
       "    .dataframe tbody tr th {\n",
       "        vertical-align: top;\n",
       "    }\n",
       "\n",
       "    .dataframe thead th {\n",
       "        text-align: right;\n",
       "    }\n",
       "</style>\n",
       "<table border=\"1\" class=\"dataframe\">\n",
       "  <thead>\n",
       "    <tr style=\"text-align: right;\">\n",
       "      <th></th>\n",
       "      <th>Feature</th>\n",
       "      <th>Coefficient</th>\n",
       "      <th>AbsCoefficient</th>\n",
       "    </tr>\n",
       "  </thead>\n",
       "  <tbody>\n",
       "    <tr>\n",
       "      <th>0</th>\n",
       "      <td>Sex</td>\n",
       "      <td>-0.234487</td>\n",
       "      <td>0.234487</td>\n",
       "    </tr>\n",
       "    <tr>\n",
       "      <th>1</th>\n",
       "      <td>Pclass</td>\n",
       "      <td>-0.118640</td>\n",
       "      <td>0.118640</td>\n",
       "    </tr>\n",
       "    <tr>\n",
       "      <th>2</th>\n",
       "      <td>Age</td>\n",
       "      <td>-0.043532</td>\n",
       "      <td>0.043532</td>\n",
       "    </tr>\n",
       "    <tr>\n",
       "      <th>3</th>\n",
       "      <td>SibSp</td>\n",
       "      <td>-0.035860</td>\n",
       "      <td>0.035860</td>\n",
       "    </tr>\n",
       "    <tr>\n",
       "      <th>4</th>\n",
       "      <td>Embarked</td>\n",
       "      <td>-0.023865</td>\n",
       "      <td>0.023865</td>\n",
       "    </tr>\n",
       "    <tr>\n",
       "      <th>5</th>\n",
       "      <td>Fare</td>\n",
       "      <td>0.009427</td>\n",
       "      <td>0.009427</td>\n",
       "    </tr>\n",
       "    <tr>\n",
       "      <th>6</th>\n",
       "      <td>Parch</td>\n",
       "      <td>-0.002657</td>\n",
       "      <td>0.002657</td>\n",
       "    </tr>\n",
       "  </tbody>\n",
       "</table>\n",
       "</div>"
      ],
      "text/plain": [
       "    Feature  Coefficient  AbsCoefficient\n",
       "0       Sex    -0.234487        0.234487\n",
       "1    Pclass    -0.118640        0.118640\n",
       "2       Age    -0.043532        0.043532\n",
       "3     SibSp    -0.035860        0.035860\n",
       "4  Embarked    -0.023865        0.023865\n",
       "5      Fare     0.009427        0.009427\n",
       "6     Parch    -0.002657        0.002657"
      ]
     },
     "execution_count": 14,
     "metadata": {},
     "output_type": "execute_result"
    }
   ],
   "source": [
    "# 特徴量の係数\n",
    "lasso_coefficients = pd.DataFrame({\n",
    "    'Feature': X.columns,\n",
    "    'Coefficient': lasso.coef_\n",
    "}).sort_values(by = 'Coefficient', ascending = False)\n",
    "\n",
    "# 特徴量の係数の絶対値を取得してソート\n",
    "lasso_coefficients['AbsCoefficient'] = lasso_coefficients['Coefficient'].abs()\n",
    "lasso_coefficients_sorted = lasso_coefficients.sort_values(by = 'AbsCoefficient', ascending = False)\n",
    "\n",
    "# プロット\n",
    "plt.figure(figsize = (12, 7))\n",
    "plt.barh(lasso_coefficients_sorted['Feature'], lasso_coefficients_sorted['AbsCoefficient'], align = 'center')\n",
    "plt.xlabel('Coefficient Value')\n",
    "plt.ylabel('Feature')\n",
    "plt.title('Lasso Coefficients')\n",
    "plt.gca().invert_yaxis()  # 上位の特徴量を上に表示\n",
    "plt.show()\n",
    "\n",
    "lasso_coefficients.sort_values(by = 'AbsCoefficient', ascending = False).reset_index(drop = True)"
   ]
  },
  {
   "cell_type": "markdown",
   "id": "09855479",
   "metadata": {},
   "source": [
    "## Name(Title)"
   ]
  },
  {
   "cell_type": "code",
   "execution_count": 21,
   "id": "da104847",
   "metadata": {},
   "outputs": [
    {
     "data": {
      "text/html": [
       "<div>\n",
       "<style scoped>\n",
       "    .dataframe tbody tr th:only-of-type {\n",
       "        vertical-align: middle;\n",
       "    }\n",
       "\n",
       "    .dataframe tbody tr th {\n",
       "        vertical-align: top;\n",
       "    }\n",
       "\n",
       "    .dataframe thead th {\n",
       "        text-align: right;\n",
       "    }\n",
       "</style>\n",
       "<table border=\"1\" class=\"dataframe\">\n",
       "  <thead>\n",
       "    <tr style=\"text-align: right;\">\n",
       "      <th></th>\n",
       "      <th>Name</th>\n",
       "    </tr>\n",
       "  </thead>\n",
       "  <tbody>\n",
       "    <tr>\n",
       "      <th>0</th>\n",
       "      <td>Braund, Mr. Owen Harris</td>\n",
       "    </tr>\n",
       "    <tr>\n",
       "      <th>1</th>\n",
       "      <td>Cumings, Mrs. John Bradley (Florence Briggs Th...</td>\n",
       "    </tr>\n",
       "    <tr>\n",
       "      <th>2</th>\n",
       "      <td>Heikkinen, Miss. Laina</td>\n",
       "    </tr>\n",
       "    <tr>\n",
       "      <th>3</th>\n",
       "      <td>Futrelle, Mrs. Jacques Heath (Lily May Peel)</td>\n",
       "    </tr>\n",
       "    <tr>\n",
       "      <th>4</th>\n",
       "      <td>Allen, Mr. William Henry</td>\n",
       "    </tr>\n",
       "    <tr>\n",
       "      <th>5</th>\n",
       "      <td>Moran, Mr. James</td>\n",
       "    </tr>\n",
       "    <tr>\n",
       "      <th>6</th>\n",
       "      <td>McCarthy, Mr. Timothy J</td>\n",
       "    </tr>\n",
       "    <tr>\n",
       "      <th>7</th>\n",
       "      <td>Palsson, Master. Gosta Leonard</td>\n",
       "    </tr>\n",
       "    <tr>\n",
       "      <th>8</th>\n",
       "      <td>Johnson, Mrs. Oscar W (Elisabeth Vilhelmina Berg)</td>\n",
       "    </tr>\n",
       "    <tr>\n",
       "      <th>9</th>\n",
       "      <td>Nasser, Mrs. Nicholas (Adele Achem)</td>\n",
       "    </tr>\n",
       "  </tbody>\n",
       "</table>\n",
       "</div>"
      ],
      "text/plain": [
       "                                                Name\n",
       "0                            Braund, Mr. Owen Harris\n",
       "1  Cumings, Mrs. John Bradley (Florence Briggs Th...\n",
       "2                             Heikkinen, Miss. Laina\n",
       "3       Futrelle, Mrs. Jacques Heath (Lily May Peel)\n",
       "4                           Allen, Mr. William Henry\n",
       "5                                   Moran, Mr. James\n",
       "6                            McCarthy, Mr. Timothy J\n",
       "7                     Palsson, Master. Gosta Leonard\n",
       "8  Johnson, Mrs. Oscar W (Elisabeth Vilhelmina Berg)\n",
       "9                Nasser, Mrs. Nicholas (Adele Achem)"
      ]
     },
     "execution_count": 21,
     "metadata": {},
     "output_type": "execute_result"
    }
   ],
   "source": [
    "# データロード\n",
    "train_data = pd.read_csv('./data/train.csv')\n",
    "test_data = pd.read_csv('./data/test.csv')\n",
    "\n",
    "train_data[['Name']].head(10)"
   ]
  },
  {
   "cell_type": "code",
   "execution_count": 23,
   "id": "928ecd4f",
   "metadata": {},
   "outputs": [
    {
     "data": {
      "text/plain": [
       "0         Mr\n",
       "1        Mrs\n",
       "2       Miss\n",
       "3        Mrs\n",
       "4         Mr\n",
       "5         Mr\n",
       "6         Mr\n",
       "7     Master\n",
       "8        Mrs\n",
       "9        Mrs\n",
       "Name: Title, dtype: object"
      ]
     },
     "execution_count": 23,
     "metadata": {},
     "output_type": "execute_result"
    }
   ],
   "source": [
    "train_data['Title'] = train_data['Name'].str.split(',', expand = True)[1].str.split('.', expand = True)[0] # expand = Trueとすると、分割した列を新たなカラムとして保持\n",
    "train_data['Title'].head(10)"
   ]
  },
  {
   "cell_type": "code",
   "execution_count": 24,
   "id": "23d7881e",
   "metadata": {},
   "outputs": [
    {
     "name": "stdout",
     "output_type": "stream",
     "text": [
      "[' Mr' ' Mrs' ' Miss' ' Master' ' Don' ' Rev' ' Dr' ' Mme' ' Ms' ' Major'\n",
      " ' Lady' ' Sir' ' Mlle' ' Col' ' Capt' ' the Countess' ' Jonkheer']\n"
     ]
    }
   ],
   "source": [
    "print(train_data['Title'].unique())"
   ]
  },
  {
   "cell_type": "code",
   "execution_count": 25,
   "id": "b319c1fd",
   "metadata": {},
   "outputs": [
    {
     "data": {
      "image/png": "[encoded data removed]",
      "text/plain": [
       "<Figure size 1500x800 with 1 Axes>"
      ]
     },
     "metadata": {},
     "output_type": "display_data"
    }
   ],
   "source": [
    "# Titleごとのカウント\n",
    "title_counts = train_data['Title'].value_counts()\n",
    "\n",
    "# グラフでTitleのカウントを表示\n",
    "plt.figure(figsize = (15, 8))\n",
    "title_counts.plot(kind = 'bar', color = 'lightcoral')\n",
    "plt.title('Passenger Count by Title')\n",
    "plt.ylabel('Number of Passengers')\n",
    "plt.xlabel('Title')\n",
    "plt.xticks(rotation = 45)\n",
    "plt.tight_layout()\n",
    "plt.show()"
   ]
  },
  {
   "cell_type": "code",
   "execution_count": 26,
   "id": "ca37b744",
   "metadata": {},
   "outputs": [
    {
     "data": {
      "image/png": "[encoded data removed]",
      "text/plain": [
       "<Figure size 1500x800 with 1 Axes>"
      ]
     },
     "metadata": {},
     "output_type": "display_data"
    }
   ],
   "source": [
    "# TitleとSurvivedの関係を集計\n",
    "title_survival = train_data.groupby('Title')['Survived'].mean().sort_values()\n",
    "\n",
    "# グラフの描画\n",
    "plt.figure(figsize = (15, 8))\n",
    "title_survival.plot(kind = 'bar', color = 'skyblue')\n",
    "plt.title('Survival Rate by Title')\n",
    "plt.ylabel('Survival Rate')\n",
    "plt.xlabel('Title')\n",
    "plt.xticks(rotation = 45)\n",
    "plt.tight_layout()\n"
   ]
  },
  {
   "cell_type": "markdown",
   "id": "b60cff42",
   "metadata": {},
   "source": [
    "## Ticket"
   ]
  },
  {
   "cell_type": "code",
   "execution_count": null,
   "id": "36f8b36b",
   "metadata": {},
   "outputs": [],
   "source": [
    "train_data = pd.read_csv('./data/train.csv')\n",
    "test_data = pd.read_csv('./data/test.csv')\n",
    "train_data['Ticket']"
   ]
  },
  {
   "cell_type": "markdown",
   "id": "8662b3cf",
   "metadata": {},
   "source": [
    "### 同じチケット番号(数値部分)の数"
   ]
  },
  {
   "cell_type": "code",
   "execution_count": 29,
   "id": "9f9666af",
   "metadata": {},
   "outputs": [],
   "source": [
    "ticket_counts = train_data.groupby('Ticket').count()[['PassengerId']]\n",
    "# ticket_counts\n",
    "unique_ticket_values = ticket_counts['PassengerId'].unique()\n"
   ]
  },
  {
   "cell_type": "code",
   "execution_count": 35,
   "id": "fb536ae5",
   "metadata": {},
   "outputs": [
    {
     "data": {
      "image/png": "[encoded data removed]",
      "text/plain": [
       "<Figure size 1000x600 with 1 Axes>"
      ]
     },
     "metadata": {},
     "output_type": "display_data"
    }
   ],
   "source": [
    "# 恋人と一緒？友達と一緒？メイドと一緒？\n",
    "# ユニークなカウントごとのSurvivedの平均を計算\n",
    "# train_data.groupby('Ticket')['PassengerId'].transform('size') [=dfとする] で得られるSeriesをtrain_dataにaxis = 0でconcatして、dfの値ごとにまとめる\n",
    "unique_ticket_survival_rate = train_data.groupby(train_data.groupby('Ticket')['PassengerId'].transform('size'))['Survived'].mean()\n",
    "\n",
    "# グラフでユニークなカウントごとのSurvivedの平均を表示\n",
    "plt.figure(figsize = (10, 6))\n",
    "unique_ticket_survival_rate.plot(kind='bar', color='lightgreen')\n",
    "plt.title('Survival Rate by Number of Passengers Sharing the Same Ticket')\n",
    "plt.ylabel('Survival Rate')\n",
    "plt.xlabel('Number of Passengers Sharing the Same Ticket')\n",
    "plt.xticks(rotation = 0)\n",
    "plt.tight_layout()\n",
    "plt.show()"
   ]
  },
  {
   "cell_type": "markdown",
   "id": "2230308b",
   "metadata": {},
   "source": [
    "### チケットの文字列部分"
   ]
  },
  {
   "cell_type": "code",
   "execution_count": null,
   "id": "3aa32259",
   "metadata": {},
   "outputs": [],
   "source": []
  },
  {
   "cell_type": "markdown",
   "id": "2a7dbe71",
   "metadata": {},
   "source": [
    "## Cabin"
   ]
  },
  {
   "cell_type": "code",
   "execution_count": null,
   "id": "4ed26def",
   "metadata": {},
   "outputs": [],
   "source": [
    "# データロード\n",
    "train_data = pd.read_csv('./data/train.csv')\n",
    "test_data = pd.read_csv('./data/test.csv')"
   ]
  },
  {
   "cell_type": "code",
   "execution_count": null,
   "id": "46a91c6e",
   "metadata": {},
   "outputs": [],
   "source": [
    "train_data[['Cabin']]"
   ]
  },
  {
   "cell_type": "code",
   "execution_count": null,
   "id": "d633f321",
   "metadata": {},
   "outputs": [],
   "source": [
    "def extract_alpha_from_prefix(cabins):\n",
    "    if pd.isna(cabins):\n",
    "        return cabins\n",
    "\n",
    "    alpha_part = \"\"\n",
    "    for cabin in cabins.split(' '):\n",
    "        for char in cabin:\n",
    "            if char.isalpha():\n",
    "                alpha_part += char\n",
    "            else:\n",
    "                break\n",
    "\n",
    "    for i in range(len(alpha_part)-1):\n",
    "        if alpha_part[i] != alpha_part[i+1]:\n",
    "            return alpha_part\n",
    "\n",
    "    return alpha_part[0]"
   ]
  },
  {
   "cell_type": "code",
   "execution_count": null,
   "id": "7555d806",
   "metadata": {},
   "outputs": [],
   "source": [
    "def extract_number_from_prefix(cabins):\n",
    "    if pd.isna(cabins):\n",
    "        return cabins\n",
    "\n",
    "    total = 0\n",
    "    size = 0\n",
    "    cabins = cabins.split(' ')\n",
    "    for cabin in cabins:\n",
    "        cabin = re.sub(r'[A-Z]', '', cabin)\n",
    "        if cabin != '':\n",
    "            total += int(cabin)\n",
    "            size += 1\n",
    "\n",
    "    if size == 0:\n",
    "        return None\n",
    "    return total / size"
   ]
  },
  {
   "cell_type": "markdown",
   "id": "48e3f19e",
   "metadata": {},
   "source": [
    "### 客室区画"
   ]
  },
  {
   "cell_type": "code",
   "execution_count": null,
   "id": "128d7177",
   "metadata": {},
   "outputs": [],
   "source": [
    "train_data['Segment'] = train_data['Cabin'].apply(extract_alpha_from_prefix)\n",
    "train_data['Cabin'].unique()"
   ]
  },
  {
   "cell_type": "code",
   "execution_count": null,
   "id": "96874781",
   "metadata": {},
   "outputs": [],
   "source": [
    "segment_count = train_data['Segment'].value_counts()\n",
    "\n",
    "plt.figure(figsize = (15, 8))\n",
    "segment_count.plot(kind = 'bar', color = 'lightcoral')\n",
    "plt.title('Passenger Count by Segment')\n",
    "plt.ylabel('Number of Passengers')\n",
    "plt.xlabel('Segment')\n",
    "plt.xticks(rotation=45)\n",
    "plt.tight_layout()\n",
    "plt.show()"
   ]
  },
  {
   "cell_type": "code",
   "execution_count": null,
   "id": "c548f264",
   "metadata": {},
   "outputs": [],
   "source": [
    "# SegmentとSurvivedの関係を集計\n",
    "train_data['Segment'] = train_data['Segment'].replace(['B', 'BB','BBB', 'BBBB'], 'B')\n",
    "train_data['Segment'] = train_data['Segment'].replace(['C', 'CC','CCC'], 'C')\n",
    "train_data['Segment'] = train_data['Segment'].replace(['D', 'DD'], 'D')\n",
    "segment_survival = train_data.groupby('Segment')['Survived'].mean().sort_values()\n",
    "\n",
    "# グラフの描画\n",
    "plt.figure(figsize = (15, 8))\n",
    "segment_survival.plot(kind = 'bar', color = 'skyblue')\n",
    "plt.title('Survival Rate by Segment')\n",
    "plt.ylabel('Survival Rate')\n",
    "plt.xlabel('Segmnet')\n",
    "plt.xticks(rotation = 0)\n",
    "plt.tight_layout()"
   ]
  },
  {
   "cell_type": "markdown",
   "id": "4bf84eba",
   "metadata": {},
   "source": [
    "### 客室番号"
   ]
  },
  {
   "cell_type": "code",
   "execution_count": null,
   "id": "4fefbdfb",
   "metadata": {},
   "outputs": [],
   "source": [
    "train_data['Segment_number'] = train_data['Cabin'].apply(extract_number_from_prefix)\n",
    "train_data['Segment_number'].unique()"
   ]
  },
  {
   "cell_type": "code",
   "execution_count": null,
   "id": "320bc6cf",
   "metadata": {},
   "outputs": [],
   "source": [
    "segment_number_count = train_data['Segment_number'].value_counts()\n",
    "\n",
    "plt.figure(figsize = (15, 8))\n",
    "segment_number_count.plot(kind = 'bar', color = 'lightcoral')\n",
    "plt.title('Passenger Count by Segment_number')\n",
    "plt.ylabel('Number of Passengers')\n",
    "plt.xlabel('Segment_number')\n",
    "plt.xticks(rotation = 90)\n",
    "plt.tight_layout()\n",
    "plt.show()"
   ]
  },
  {
   "cell_type": "code",
   "execution_count": null,
   "id": "5ad9cbc7",
   "metadata": {},
   "outputs": [],
   "source": [
    "# Segment_numberとSurvivedの関係を集計\n",
    "segment_number_survival = train_data.groupby('Segment_number')['Survived'].mean()#.sort_values()\n",
    "\n",
    "# グラフの描画\n",
    "plt.figure(figsize = (15, 8))\n",
    "segment_number_survival.plot(kind = 'bar', color = 'skyblue')\n",
    "plt.title('Survival Rate by Segment_number')\n",
    "plt.ylabel('Survival Rate')\n",
    "plt.xlabel('Segmnet_number')\n",
    "plt.xticks(rotation = 90)\n",
    "plt.tight_layout()"
   ]
  },
  {
   "cell_type": "markdown",
   "id": "6cdd642a",
   "metadata": {},
   "source": [
    "## まとめ"
   ]
  },
  {
   "cell_type": "code",
   "execution_count": null,
   "id": "af63d857",
   "metadata": {},
   "outputs": [],
   "source": [
    "# データロード\n",
    "train_data = pd.read_csv('./data/train.csv')\n",
    "test_data = pd.read_csv('./data/test.csv')"
   ]
  },
  {
   "cell_type": "code",
   "execution_count": null,
   "id": "8dc036de",
   "metadata": {},
   "outputs": [],
   "source": [
    "def eda(df_all):\n",
    "    # 3.1.1 Name -> Title\n",
    "    df_all['Title'] = df_all['Name'].str.split(',', expand = True)[1].str.split('.', expand = True)[0].str.strip()\n",
    "\n",
    "    # 出現回数が非常に少ないタイトルは過学習の原因になるので、似ている特性でカテゴライズする\n",
    "    # Miss、Mrs、Ms、Mlle、Lady、Mme、The Countess、Donaはすべて女性であるため、Miss/Mrs/Msに置き換える\n",
    "    df_all['Title'] = df_all['Title'].replace(['Miss', 'Mrs','Ms', 'Mlle', 'Lady', 'Mme', 'the Countess', 'Dona'], 'Miss/Mrs/Ms')\n",
    "    df_all['Title'] = df_all['Title'].replace(['Dr', 'Col', 'Major', 'Jonkheer', 'Capt', 'Sir', 'Don', 'Rev'], 'Dr/Military/Noble/Clergy')\n",
    "\n",
    "    # 3.1.2 Ticket -> Ticket Frequency\n",
    "    df_all['Ticket_Frequency'] = df_all.groupby('Ticket')['Ticket'].transform('count')\n",
    "\n",
    "    # Cabin -> Segment\n",
    "    df_all['Segment'] = df_all['Cabin'].apply(extract_alpha_from_prefix)\n",
    "\n",
    "    # 特徴量同士を組み合わせる\n",
    "    df_all['Family'] = df_all['SibSp'] + df_all['Parch']\n",
    "    return df_all\n",
    "\n",
    "def transform_data_with_eda(data):\n",
    "    # 欠損値の処理(fillna関数のinplace = Trueは、PandasのDataFrameやSeriesのメソッドで使用される引数で、元のDataFrameまたはSeriesを直接変更することを指定)\n",
    "    data['Age'].fillna(data['Age'].median(), inplace = True)\n",
    "    data['Embarked'].fillna(data['Embarked'].mode()[0], inplace = True)\n",
    "    data['Fare'].fillna(data['Fare'].median(), inplace = True)\n",
    "\n",
    "    # 特徴量の部分抽出\n",
    "    data = eda(data)\n",
    "    remove_columns = ['Name', 'Ticket', 'Cabin', 'SibSp', 'Parch']\n",
    "    data = data.drop(columns = remove_columns)\n",
    "    data_columns = data.columns.tolist()\n",
    "    data_index = data.index\n",
    "\n",
    "    # カテゴリ変数を数値に変換\n",
    "    # LabelEncodeing(カテゴリ変数が特定の順番を持つ場合)\n",
    "    label_encoders = {}\n",
    "    le_columns = ['Embarked', 'Segment']\n",
    "    for column in le_columns:\n",
    "        le = LabelEncoder()\n",
    "        data[column] = le.fit_transform(data[column])\n",
    "        label_encoders[column] = le\n",
    "\n",
    "    # OneHotEncoding(カテゴリ変数が特定の順番を持たない場合)\n",
    "    ohe_columns = ['Sex', 'Title']\n",
    "    ct = ColumnTransformer(transformers = [('encoder', OneHotEncoder(handle_unknown = 'ignore', sparse_output = False), ohe_columns)], remainder = 'passthrough')\n",
    "    data = ct.fit_transform(data)\n",
    "\n",
    "    encoded_feature_names = ct.named_transformers_['encoder'].get_feature_names_out(ohe_columns) # OneHotEncoderによって生成された新しい列名を取得\n",
    "    passthrough_columns = [col for col in data_columns if col not in ohe_columns] # remainder='passthrough' でそのまま通過した列の名前を取得\n",
    "    all_feature_names = list(encoded_feature_names) + passthrough_columns\n",
    "    data = pd.DataFrame(data, columns = all_feature_names, index = data_index)\n",
    "\n",
    "    # 整数型に戻したいカラムのリストを定義\n",
    "    int_columns = ['PassengerId', 'Survived']\n",
    "    for col in int_columns:\n",
    "        if col in data.columns:\n",
    "            data[col] = data[col].astype(int)\n",
    "\n",
    "    return data"
   ]
  },
  {
   "cell_type": "code",
   "execution_count": null,
   "id": "5dc8bb9e",
   "metadata": {},
   "outputs": [],
   "source": [
    "train_data = transform_data_with_eda(train_data)\n",
    "test_data = transform_data_with_eda(test_data)"
   ]
  },
  {
   "cell_type": "markdown",
   "id": "c684efdf",
   "metadata": {},
   "source": [
    "## 学習"
   ]
  },
  {
   "cell_type": "code",
   "execution_count": null,
   "id": "c29035c8",
   "metadata": {},
   "outputs": [],
   "source": [
    "X = train_data.drop(columns = ['Survived', 'PassengerId'])\n",
    "y = train_data['Survived']\n",
    "X_train, X_test, y_train, y_test = train_test_split(X, y, test_size = 0.2, random_state = 42)"
   ]
  },
  {
   "cell_type": "code",
   "execution_count": null,
   "id": "99cf87db",
   "metadata": {},
   "outputs": [],
   "source": [
    "# --- フィーチャースケーリング ---\n",
    "sc = StandardScaler()\n",
    "X_train = sc.fit_transform(X_train)\n",
    "X_test = sc.transform(X_test)"
   ]
  },
  {
   "cell_type": "code",
   "execution_count": null,
   "id": "426a61e1",
   "metadata": {},
   "outputs": [],
   "source": [
    "# --- モデルの訓練 ---\n",
    "from sklearn.ensemble import RandomForestClassifier\n",
    "\n",
    "classifier = RandomForestClassifier(random_state = 0)\n",
    "classifier.fit(X_train, y_train)\n",
    "\n",
    "# トレーニングスコア\n",
    "train_score = classifier.score(X_train, y_train)\n",
    "\n",
    "# バリデーションスコア\n",
    "test_score = classifier.score(X_test, y_test)\n",
    "\n",
    "print('accuracy train: ', train_score)\n",
    "print('accuracy validation: ',test_score)"
   ]
  },
  {
   "cell_type": "markdown",
   "id": "8cfaca15",
   "metadata": {},
   "source": [
    "## 提出用"
   ]
  },
  {
   "cell_type": "code",
   "execution_count": null,
   "id": "752f40db",
   "metadata": {},
   "outputs": [],
   "source": [
    "# データロード\n",
    "train_data = pd.read_csv('./data/train.csv')\n",
    "test_data = pd.read_csv('./data/test.csv')\n",
    "\n",
    "# データの前処理\n",
    "train_data = transform_data_with_eda(train_data)\n",
    "test_data = transform_data_with_eda(test_data)\n",
    "X_train = train_data.drop(columns = ['Survived', 'PassengerId'])\n",
    "y_train = train_data['Survived']\n",
    "X_test = test_data.drop(columns = ['PassengerId'])\n",
    "\n",
    "# --- フィーチャースケーリング ---\n",
    "sc = StandardScaler()\n",
    "X_train = sc.fit_transform(X_train)\n",
    "X_test = sc.transform(X_test)\n",
    "\n",
    "# --- モデルの訓練 ---\n",
    "from sklearn.ensemble import RandomForestClassifier\n",
    "\n",
    "classifier = RandomForestClassifier(random_state = 0)\n",
    "classifier.fit(X_train, y_train)\n",
    "\n",
    "y_pred = classifier.predict(X_test)\n",
    "X_test_passengerid = test_data['PassengerId'].values\n",
    "\n",
    "survived_passenger = pd.DataFrame({\n",
    "    'PassengerId': X_test_passengerid,\n",
    "    'Survived': y_pred\n",
    "})\n",
    "survived_passenger.to_csv('./data/submittion_randomforest2.csv', index = False, encoding = 'utf-8')"
   ]
  },
  {
   "cell_type": "code",
   "execution_count": null,
   "id": "2d6136f0",
   "metadata": {},
   "outputs": [],
   "source": []
  }
 ],
 "metadata": {
  "kernelspec": {
   "display_name": "kaggle-DIVfiPaQ-py3.12",
   "language": "python",
   "name": "python3"
  },
  "language_info": {
   "codemirror_mode": {
    "name": "ipython",
    "version": 3
   },
   "file_extension": ".py",
   "mimetype": "text/x-python",
   "name": "python",
   "nbconvert_exporter": "python",
   "pygments_lexer": "ipython3",
   "version": "3.12.2"
  }
 },
 "nbformat": 4,
 "nbformat_minor": 5
}
